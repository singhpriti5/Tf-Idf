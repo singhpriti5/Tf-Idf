{
  "nbformat": 4,
  "nbformat_minor": 0,
  "metadata": {
    "colab": {
      "name": "tf-idf.ipynb",
      "provenance": [],
      "collapsed_sections": [],
      "include_colab_link": true
    },
    "kernelspec": {
      "display_name": "Python 3",
      "name": "python3"
    }
  },
  "cells": [
    {
      "cell_type": "markdown",
      "metadata": {
        "id": "view-in-github",
        "colab_type": "text"
      },
      "source": [
        "<a href=\"https://colab.research.google.com/github/singhpriti5/Tf-Idf/blob/main/tf_idf.ipynb\" target=\"_parent\"><img src=\"https://colab.research.google.com/assets/colab-badge.svg\" alt=\"Open In Colab\"/></a>"
      ]
    },
    {
      "cell_type": "markdown",
      "metadata": {
        "id": "YmZyuB_b5uUv"
      },
      "source": [
        "# Task 1"
      ]
    },
    {
      "cell_type": "code",
      "metadata": {
        "id": "-D-478UVc1DY"
      },
      "source": [
        "from collections import Counter\n",
        "from tqdm import tqdm\n",
        "from scipy.sparse import csr_matrix\n",
        "import math\n",
        "import operator\n",
        "from sklearn.preprocessing import normalize\n",
        "import numpy\n",
        "from math import log10"
      ],
      "execution_count": null,
      "outputs": []
    },
    {
      "cell_type": "code",
      "metadata": {
        "colab": {
          "base_uri": "https://localhost:8080/"
        },
        "id": "OeeUMy6adI7P",
        "outputId": "7c47ec88-cf34-45f5-8c5e-61ebf5d72c94"
      },
      "source": [
        "import pickle\n",
        "with open('cleaned_strings', 'rb') as f:\n",
        "    corpus = pickle.load(f)\n",
        "# printing the length of the corpus loaded\n",
        "print(\"Number of documents in corpus = \",len(corpus))"
      ],
      "execution_count": null,
      "outputs": [
        {
          "output_type": "stream",
          "text": [
            "Number of documents in corpus =  746\n"
          ],
          "name": "stdout"
        }
      ]
    },
    {
      "cell_type": "code",
      "metadata": {
        "colab": {
          "base_uri": "https://localhost:8080/"
        },
        "id": "ebuTpm4jdYIb",
        "outputId": "d0308954-0d22-4e66-9dee-ed14a2fc848c"
      },
      "source": [
        "#corpus tupe\n",
        "print(type(corpus))"
      ],
      "execution_count": null,
      "outputs": [
        {
          "output_type": "stream",
          "text": [
            "<class 'list'>\n"
          ],
          "name": "stdout"
        }
      ]
    },
    {
      "cell_type": "code",
      "metadata": {
        "colab": {
          "base_uri": "https://localhost:8080/"
        },
        "id": "zIWFYHtMdrS4",
        "outputId": "915b8dfe-5002-46ef-debc-a7db559f6cf9"
      },
      "source": [
        "#printing first part of corpus\n",
        "print(corpus[1])"
      ],
      "execution_count": null,
      "outputs": [
        {
          "output_type": "stream",
          "text": [
            "not sure lost flat characters audience nearly half walked\n"
          ],
          "name": "stdout"
        }
      ]
    },
    {
      "cell_type": "code",
      "metadata": {
        "colab": {
          "base_uri": "https://localhost:8080/"
        },
        "id": "RRLtmJa23Epf",
        "outputId": "380b9154-2d13-498b-bfb2-07b99ed4fb2c"
      },
      "source": [
        "#fit function\n",
        "def fit(dataset):\n",
        "  storage_set = set()\n",
        "  if isinstance(dataset,list):\n",
        "    for document in dataset:\n",
        "      for word in document.split(\" \"):\n",
        "        storage_set.add(word)\n",
        "  storage_set = sorted(list(storage_set))\n",
        "  vocab = {j:i for i,j in enumerate(storage_set)}\n",
        "  return vocab\n",
        "\n",
        "vocab =  fit(corpus)\n",
        "print(vocab)\n"
      ],
      "execution_count": null,
      "outputs": [
        {
          "output_type": "stream",
          "text": [
            "{'aailiyah': 0, 'abandoned': 1, 'ability': 2, 'abroad': 3, 'absolutely': 4, 'abstruse': 5, 'abysmal': 6, 'academy': 7, 'accents': 8, 'accessible': 9, 'acclaimed': 10, 'accolades': 11, 'accurate': 12, 'accurately': 13, 'accused': 14, 'achievement': 15, 'achille': 16, 'ackerman': 17, 'act': 18, 'acted': 19, 'acting': 20, 'action': 21, 'actions': 22, 'actor': 23, 'actors': 24, 'actress': 25, 'actresses': 26, 'actually': 27, 'adams': 28, 'adaptation': 29, 'add': 30, 'added': 31, 'addition': 32, 'admins': 33, 'admiration': 34, 'admitted': 35, 'adorable': 36, 'adrift': 37, 'adventure': 38, 'advise': 39, 'aerial': 40, 'aesthetically': 41, 'affected': 42, 'affleck': 43, 'afraid': 44, 'africa': 45, 'afternoon': 46, 'age': 47, 'aged': 48, 'ages': 49, 'ago': 50, 'agree': 51, 'agreed': 52, 'aimless': 53, 'air': 54, 'aired': 55, 'akasha': 56, 'akin': 57, 'alert': 58, 'alexander': 59, 'alike': 60, 'allison': 61, 'allow': 62, 'allowing': 63, 'almost': 64, 'along': 65, 'alongside': 66, 'already': 67, 'also': 68, 'although': 69, 'always': 70, 'amateurish': 71, 'amaze': 72, 'amazed': 73, 'amazing': 74, 'amazingly': 75, 'america': 76, 'american': 77, 'americans': 78, 'among': 79, 'amount': 80, 'amusing': 81, 'amust': 82, 'anatomist': 83, 'angel': 84, 'angela': 85, 'angeles': 86, 'angelina': 87, 'angle': 88, 'angles': 89, 'angry': 90, 'anguish': 91, 'angus': 92, 'animals': 93, 'animated': 94, 'animation': 95, 'anita': 96, 'ann': 97, 'anne': 98, 'anniversary': 99, 'annoying': 100, 'another': 101, 'anthony': 102, 'antithesis': 103, 'anyone': 104, 'anything': 105, 'anyway': 106, 'apart': 107, 'appalling': 108, 'appealing': 109, 'appearance': 110, 'appears': 111, 'applauded': 112, 'applause': 113, 'appreciate': 114, 'appropriate': 115, 'apt': 116, 'argued': 117, 'armageddon': 118, 'armand': 119, 'around': 120, 'array': 121, 'art': 122, 'articulated': 123, 'artiness': 124, 'artist': 125, 'artistic': 126, 'artless': 127, 'arts': 128, 'aside': 129, 'ask': 130, 'asleep': 131, 'aspect': 132, 'aspects': 133, 'ass': 134, 'assante': 135, 'assaulted': 136, 'assistant': 137, 'astonishingly': 138, 'astronaut': 139, 'atmosphere': 140, 'atrocious': 141, 'atrocity': 142, 'attempt': 143, 'attempted': 144, 'attempting': 145, 'attempts': 146, 'attention': 147, 'attractive': 148, 'audience': 149, 'audio': 150, 'aurv': 151, 'austen': 152, 'austere': 153, 'author': 154, 'average': 155, 'aversion': 156, 'avoid': 157, 'avoided': 158, 'award': 159, 'awarded': 160, 'awards': 161, 'away': 162, 'awesome': 163, 'awful': 164, 'awkwardly': 165, 'aye': 166, 'b': 167, 'baaaaaad': 168, 'babbling': 169, 'babie': 170, 'baby': 171, 'babysitting': 172, 'back': 173, 'backdrop': 174, 'backed': 175, 'bad': 176, 'badly': 177, 'bag': 178, 'bailey': 179, 'bakery': 180, 'balance': 181, 'balanced': 182, 'ball': 183, 'ballet': 184, 'balls': 185, 'band': 186, 'barcelona': 187, 'barely': 188, 'barking': 189, 'barney': 190, 'barren': 191, 'based': 192, 'basic': 193, 'basically': 194, 'bat': 195, 'bates': 196, 'baxendale': 197, 'bear': 198, 'beautiful': 199, 'beautifully': 200, 'bec': 201, 'became': 202, 'bechard': 203, 'become': 204, 'becomes': 205, 'began': 206, 'begin': 207, 'beginning': 208, 'behind': 209, 'behold': 210, 'bela': 211, 'believable': 212, 'believe': 213, 'believed': 214, 'bell': 215, 'bellucci': 216, 'belly': 217, 'belmondo': 218, 'ben': 219, 'bendingly': 220, 'bennett': 221, 'bergen': 222, 'bertolucci': 223, 'best': 224, 'better': 225, 'betty': 226, 'beware': 227, 'beyond': 228, 'bible': 229, 'big': 230, 'biggest': 231, 'billy': 232, 'biographical': 233, 'bipolarity': 234, 'bit': 235, 'bitchy': 236, 'black': 237, 'blah': 238, 'blake': 239, 'bland': 240, 'blandly': 241, 'blare': 242, 'blatant': 243, 'blew': 244, 'blood': 245, 'blown': 246, 'blue': 247, 'blush': 248, 'boasts': 249, 'bob': 250, 'body': 251, 'bohemian': 252, 'boiling': 253, 'bold': 254, 'bombardments': 255, 'bond': 256, 'bonding': 257, 'bonus': 258, 'bonuses': 259, 'boobs': 260, 'boogeyman': 261, 'book': 262, 'boost': 263, 'bop': 264, 'bordered': 265, 'borderlines': 266, 'borders': 267, 'bore': 268, 'bored': 269, 'boring': 270, 'borrowed': 271, 'boss': 272, 'bother': 273, 'bothersome': 274, 'bought': 275, 'box': 276, 'boyfriend': 277, 'boyle': 278, 'brain': 279, 'brainsucking': 280, 'brat': 281, 'breaking': 282, 'breeders': 283, 'brevity': 284, 'brian': 285, 'brief': 286, 'brigand': 287, 'bright': 288, 'brilliance': 289, 'brilliant': 290, 'brilliantly': 291, 'bring': 292, 'brings': 293, 'broad': 294, 'broke': 295, 'brooding': 296, 'brother': 297, 'brutal': 298, 'buddy': 299, 'budget': 300, 'buffalo': 301, 'buffet': 302, 'build': 303, 'builders': 304, 'buildings': 305, 'built': 306, 'bullock': 307, 'bully': 308, 'bunch': 309, 'burton': 310, 'business': 311, 'buy': 312, 'cable': 313, 'cailles': 314, 'california': 315, 'call': 316, 'called': 317, 'calls': 318, 'came': 319, 'cameo': 320, 'camera': 321, 'camerawork': 322, 'camp': 323, 'campy': 324, 'canada': 325, 'cancan': 326, 'candace': 327, 'candle': 328, 'cannot': 329, 'cant': 330, 'captain': 331, 'captured': 332, 'captures': 333, 'car': 334, 'card': 335, 'cardboard': 336, 'cardellini': 337, 'care': 338, 'carol': 339, 'carrell': 340, 'carries': 341, 'carry': 342, 'cars': 343, 'cartoon': 344, 'cartoons': 345, 'case': 346, 'cases': 347, 'cast': 348, 'casted': 349, 'casting': 350, 'cat': 351, 'catchy': 352, 'caught': 353, 'cause': 354, 'ceases': 355, 'celebration': 356, 'celebrity': 357, 'celluloid': 358, 'centers': 359, 'central': 360, 'century': 361, 'certain': 362, 'certainly': 363, 'cg': 364, 'cgi': 365, 'chalkboard': 366, 'challenges': 367, 'chance': 368, 'change': 369, 'changes': 370, 'changing': 371, 'channel': 372, 'character': 373, 'characterisation': 374, 'characters': 375, 'charisma': 376, 'charismatic': 377, 'charles': 378, 'charlie': 379, 'charm': 380, 'charming': 381, 'chase': 382, 'chasing': 383, 'cheap': 384, 'cheaply': 385, 'check': 386, 'checking': 387, 'cheek': 388, 'cheekbones': 389, 'cheerfull': 390, 'cheerless': 391, 'cheesiness': 392, 'cheesy': 393, 'chemistry': 394, 'chick': 395, 'child': 396, 'childhood': 397, 'children': 398, 'childrens': 399, 'chills': 400, 'chilly': 401, 'chimp': 402, 'chodorov': 403, 'choice': 404, 'choices': 405, 'choked': 406, 'chosen': 407, 'chow': 408, 'christmas': 409, 'christopher': 410, 'church': 411, 'cinema': 412, 'cinematic': 413, 'cinematographers': 414, 'cinematography': 415, 'circumstances': 416, 'class': 417, 'classic': 418, 'classical': 419, 'clear': 420, 'clearly': 421, 'clever': 422, 'clich': 423, 'cliche': 424, 'clients': 425, 'cliff': 426, 'climax': 427, 'close': 428, 'closed': 429, 'clothes': 430, 'club': 431, 'co': 432, 'coach': 433, 'coal': 434, 'coastal': 435, 'coaster': 436, 'coherent': 437, 'cold': 438, 'cole': 439, 'collect': 440, 'collective': 441, 'colored': 442, 'colorful': 443, 'colours': 444, 'columbo': 445, 'come': 446, 'comedic': 447, 'comedy': 448, 'comes': 449, 'comfortable': 450, 'comforting': 451, 'comical': 452, 'coming': 453, 'commands': 454, 'comment': 455, 'commentary': 456, 'commented': 457, 'comments': 458, 'commercial': 459, 'community': 460, 'company': 461, 'compelling': 462, 'competent': 463, 'complete': 464, 'completed': 465, 'completely': 466, 'complex': 467, 'complexity': 468, 'composed': 469, 'composition': 470, 'comprehensible': 471, 'compromise': 472, 'computer': 473, 'concentrate': 474, 'conception': 475, 'conceptually': 476, 'concerning': 477, 'concerns': 478, 'concert': 479, 'conclusion': 480, 'condescends': 481, 'confidence': 482, 'configuration': 483, 'confirm': 484, 'conflict': 485, 'confuses': 486, 'confusing': 487, 'connections': 488, 'connery': 489, 'connor': 490, 'conrad': 491, 'consequences': 492, 'consider': 493, 'considerable': 494, 'considered': 495, 'considering': 496, 'considers': 497, 'consistent': 498, 'consolations': 499, 'constant': 500, 'constantine': 501, 'constructed': 502, 'contained': 503, 'containing': 504, 'contains': 505, 'content': 506, 'continually': 507, 'continuation': 508, 'continue': 509, 'continuity': 510, 'continuously': 511, 'contract': 512, 'contrast': 513, 'contributing': 514, 'contributory': 515, 'contrived': 516, 'control': 517, 'controversy': 518, 'convention': 519, 'convey': 520, 'convince': 521, 'convincing': 522, 'convoluted': 523, 'cool': 524, 'coppola': 525, 'cords': 526, 'core': 527, 'corn': 528, 'corny': 529, 'correct': 530, 'cost': 531, 'costs': 532, 'costumes': 533, 'cotton': 534, 'could': 535, 'couple': 536, 'course': 537, 'court': 538, 'courtroom': 539, 'cover': 540, 'cowardice': 541, 'cox': 542, 'crackles': 543, 'crafted': 544, 'crap': 545, 'crash': 546, 'crashed': 547, 'crayon': 548, 'crayons': 549, 'crazy': 550, 'create': 551, 'created': 552, 'creates': 553, 'creative': 554, 'creativity': 555, 'creature': 556, 'credible': 557, 'credit': 558, 'credits': 559, 'crew': 560, 'crime': 561, 'crisp': 562, 'critic': 563, 'critical': 564, 'crocdodile': 565, 'crocs': 566, 'cross': 567, 'crowd': 568, 'crowe': 569, 'cruel': 570, 'cruise': 571, 'cry': 572, 'cult': 573, 'culture': 574, 'curtain': 575, 'custer': 576, 'cute': 577, 'cutest': 578, 'cutie': 579, 'cutouts': 580, 'cuts': 581, 'cutting': 582, 'dads': 583, 'damian': 584, 'damn': 585, 'dance': 586, 'dancing': 587, 'dangerous': 588, 'dark': 589, 'darren': 590, 'daughter': 591, 'daughters': 592, 'day': 593, 'days': 594, 'de': 595, 'dead': 596, 'deadly': 597, 'deadpan': 598, 'deal': 599, 'dealt': 600, 'death': 601, 'debated': 602, 'debbie': 603, 'debits': 604, 'debut': 605, 'decay': 606, 'decent': 607, 'decidely': 608, 'decipher': 609, 'decisions': 610, 'dedication': 611, 'dee': 612, 'deep': 613, 'deeply': 614, 'defensemen': 615, 'defined': 616, 'definitely': 617, 'delete': 618, 'delight': 619, 'delightful': 620, 'delights': 621, 'deliver': 622, 'delivered': 623, 'delivering': 624, 'delivers': 625, 'dependant': 626, 'depending': 627, 'depends': 628, 'depicted': 629, 'depicts': 630, 'depressing': 631, 'depth': 632, 'derivative': 633, 'describe': 634, 'describes': 635, 'desert': 636, 'deserved': 637, 'deserves': 638, 'deserving': 639, 'design': 640, 'designed': 641, 'designer': 642, 'desperately': 643, 'desperation': 644, 'despised': 645, 'despite': 646, 'destroy': 647, 'detailing': 648, 'details': 649, 'develop': 650, 'development': 651, 'developments': 652, 'di': 653, 'diabetic': 654, 'dialog': 655, 'dialogs': 656, 'dialogue': 657, 'diaper': 658, 'dickens': 659, 'difference': 660, 'different': 661, 'dignity': 662, 'dimensional': 663, 'direct': 664, 'directed': 665, 'directing': 666, 'direction': 667, 'director': 668, 'directorial': 669, 'directors': 670, 'disappointed': 671, 'disappointing': 672, 'disappointment': 673, 'disaster': 674, 'disbelief': 675, 'discomfort': 676, 'discovering': 677, 'discovery': 678, 'disgrace': 679, 'disgusting': 680, 'dislike': 681, 'disliked': 682, 'disney': 683, 'disparate': 684, 'distant': 685, 'distinction': 686, 'distorted': 687, 'distract': 688, 'distressed': 689, 'disturbing': 690, 'diving': 691, 'doctor': 692, 'documentaries': 693, 'documentary': 694, 'dodge': 695, 'dogs': 696, 'dollars': 697, 'dominated': 698, 'done': 699, 'donlevy': 700, 'dont': 701, 'doomed': 702, 'dose': 703, 'doubt': 704, 'downs': 705, 'dozen': 706, 'dr': 707, 'dracula': 708, 'draft': 709, 'drag': 710, 'drago': 711, 'drama': 712, 'dramatic': 713, 'drawings': 714, 'drawn': 715, 'dream': 716, 'dreams': 717, 'dreary': 718, 'dribble': 719, 'drift': 720, 'drifting': 721, 'drive': 722, 'drooling': 723, 'dropped': 724, 'dry': 725, 'due': 726, 'duet': 727, 'dull': 728, 'dumb': 729, 'dumbest': 730, 'duper': 731, 'duris': 732, 'dustin': 733, 'dvd': 734, 'dwight': 735, 'dysfunction': 736, 'e': 737, 'earlier': 738, 'early': 739, 'earth': 740, 'easily': 741, 'easy': 742, 'eating': 743, 'ebay': 744, 'ebola': 745, 'eccleston': 746, 'ed': 747, 'edge': 748, 'editing': 749, 'edition': 750, 'educational': 751, 'edward': 752, 'effect': 753, 'effective': 754, 'effects': 755, 'effort': 756, 'efforts': 757, 'egotism': 758, 'eighth': 759, 'eiko': 760, 'either': 761, 'elaborately': 762, 'elderly': 763, 'elegant': 764, 'element': 765, 'elias': 766, 'eloquently': 767, 'else': 768, 'elsewhere': 769, 'embarrassed': 770, 'embarrassing': 771, 'embassy': 772, 'emerge': 773, 'emilio': 774, 'emily': 775, 'emoting': 776, 'emotion': 777, 'emotionally': 778, 'emotions': 779, 'emperor': 780, 'empowerment': 781, 'emptiness': 782, 'empty': 783, 'en': 784, 'enchanting': 785, 'end': 786, 'endearing': 787, 'ended': 788, 'ending': 789, 'endlessly': 790, 'ends': 791, 'energetic': 792, 'energy': 793, 'engaging': 794, 'english': 795, 'enhanced': 796, 'enjoy': 797, 'enjoyable': 798, 'enjoyed': 799, 'enjoyment': 800, 'enough': 801, 'enter': 802, 'enterprise': 803, 'entertained': 804, 'entertaining': 805, 'entire': 806, 'entirely': 807, 'entrance': 808, 'episode': 809, 'episodes': 810, 'equivalent': 811, 'era': 812, 'errol': 813, 'errors': 814, 'escalating': 815, 'escapism': 816, 'especially': 817, 'essence': 818, 'establish': 819, 'established': 820, 'estate': 821, 'estevez': 822, 'etc': 823, 'european': 824, 'evaluate': 825, 'even': 826, 'events': 827, 'ever': 828, 'every': 829, 'everybody': 830, 'everyone': 831, 'everything': 832, 'everywhere': 833, 'evidently': 834, 'evil': 835, 'evinced': 836, 'evokes': 837, 'exactly': 838, 'exaggerating': 839, 'example': 840, 'excellent': 841, 'excellently': 842, 'except': 843, 'exceptional': 844, 'exceptionally': 845, 'excerpts': 846, 'excessively': 847, 'exchange': 848, 'exciting': 849, 'excruciatingly': 850, 'excuse': 851, 'excuses': 852, 'executed': 853, 'exemplars': 854, 'existent': 855, 'existential': 856, 'expansive': 857, 'expect': 858, 'expectations': 859, 'expected': 860, 'expecting': 861, 'experience': 862, 'experiences': 863, 'expert': 864, 'explain': 865, 'explains': 866, 'explanation': 867, 'exploit': 868, 'explorations': 869, 'explosion': 870, 'expression': 871, 'exquisite': 872, 'extant': 873, 'exteriors': 874, 'extraneous': 875, 'extraordinary': 876, 'extremely': 877, 'eye': 878, 'eyes': 879, 'f': 880, 'fabulous': 881, 'face': 882, 'faces': 883, 'facial': 884, 'facing': 885, 'fact': 886, 'factory': 887, 'failed': 888, 'fails': 889, 'fair': 890, 'fairly': 891, 'faithful': 892, 'fall': 893, 'falling': 894, 'falls': 895, 'falsely': 896, 'falwell': 897, 'fame': 898, 'famed': 899, 'family': 900, 'famous': 901, 'fan': 902, 'fanciful': 903, 'fans': 904, 'fantastic': 905, 'fantasy': 906, 'far': 907, 'farce': 908, 'fare': 909, 'fascinated': 910, 'fascinating': 911, 'fascination': 912, 'fashioned': 913, 'fast': 914, 'faster': 915, 'fat': 916, 'father': 917, 'faultless': 918, 'fausa': 919, 'faux': 920, 'favorite': 921, 'favourite': 922, 'fear': 923, 'feature': 924, 'features': 925, 'feel': 926, 'feeling': 927, 'feelings': 928, 'feet': 929, 'feisty': 930, 'fellowes': 931, 'felt': 932, 'female': 933, 'females': 934, 'ferry': 935, 'fest': 936, 'fi': 937, 'fields': 938, 'fifteen': 939, 'fifties': 940, 'fill': 941, 'film': 942, 'filmed': 943, 'filmiing': 944, 'filmmaker': 945, 'filmography': 946, 'films': 947, 'final': 948, 'finale': 949, 'finally': 950, 'financial': 951, 'find': 952, 'finds': 953, 'fine': 954, 'finest': 955, 'fingernails': 956, 'finished': 957, 'fire': 958, 'first': 959, 'fish': 960, 'fishnet': 961, 'fisted': 962, 'fit': 963, 'five': 964, 'flag': 965, 'flakes': 966, 'flaming': 967, 'flashbacks': 968, 'flat': 969, 'flaw': 970, 'flawed': 971, 'flaws': 972, 'fleshed': 973, 'flick': 974, 'flicks': 975, 'florida': 976, 'flowed': 977, 'flying': 978, 'flynn': 979, 'focus': 980, 'fodder': 981, 'follow': 982, 'following': 983, 'follows': 984, 'foolish': 985, 'footage': 986, 'football': 987, 'force': 988, 'forced': 989, 'forces': 990, 'ford': 991, 'foreign': 992, 'foreigner': 993, 'forever': 994, 'forget': 995, 'forgettable': 996, 'forgetting': 997, 'forgot': 998, 'forgotten': 999, 'form': 1000, 'format': 1001, 'former': 1002, 'fort': 1003, 'forth': 1004, 'forwarded': 1005, 'found': 1006, 'four': 1007, 'fox': 1008, 'foxx': 1009, 'frances': 1010, 'francis': 1011, 'frankly': 1012, 'free': 1013, 'freedom': 1014, 'freeman': 1015, 'french': 1016, 'fresh': 1017, 'freshness': 1018, 'friends': 1019, 'friendship': 1020, 'frightening': 1021, 'front': 1022, 'frontier': 1023, 'frost': 1024, 'frustration': 1025, 'fulci': 1026, 'fulfilling': 1027, 'full': 1028, 'fully': 1029, 'fumbling': 1030, 'fun': 1031, 'function': 1032, 'fundamental': 1033, 'funniest': 1034, 'funny': 1035, 'future': 1036, 'fx': 1037, 'g': 1038, 'gabriel': 1039, 'gadget': 1040, 'gain': 1041, 'gake': 1042, 'galley': 1043, 'gallon': 1044, 'game': 1045, 'games': 1046, 'garage': 1047, 'garbage': 1048, 'garbo': 1049, 'garfield': 1050, 'gas': 1051, 'gaudi': 1052, 'gave': 1053, 'gay': 1054, 'geek': 1055, 'gem': 1056, 'general': 1057, 'generally': 1058, 'generates': 1059, 'generic': 1060, 'genius': 1061, 'genre': 1062, 'gently': 1063, 'genuine': 1064, 'george': 1065, 'gerardo': 1066, 'gere': 1067, 'get': 1068, 'gets': 1069, 'getting': 1070, 'ghibili': 1071, 'giallo': 1072, 'gibberish': 1073, 'gifted': 1074, 'giovanni': 1075, 'girl': 1076, 'girlfriend': 1077, 'girls': 1078, 'girolamo': 1079, 'give': 1080, 'given': 1081, 'gives': 1082, 'giving': 1083, 'glad': 1084, 'glance': 1085, 'glasses': 1086, 'gloriously': 1087, 'go': 1088, 'goalies': 1089, 'god': 1090, 'goes': 1091, 'going': 1092, 'gone': 1093, 'gonna': 1094, 'good': 1095, 'gore': 1096, 'goremeister': 1097, 'gorman': 1098, 'gosh': 1099, 'got': 1100, 'goth': 1101, 'gotta': 1102, 'gotten': 1103, 'government': 1104, 'grace': 1105, 'grade': 1106, 'gradually': 1107, 'grainy': 1108, 'granted': 1109, 'graphics': 1110, 'grasp': 1111, 'grates': 1112, 'great': 1113, 'greatest': 1114, 'greatness': 1115, 'green': 1116, 'greenstreet': 1117, 'grew': 1118, 'grim': 1119, 'grimes': 1120, 'gripping': 1121, 'groove': 1122, 'gross': 1123, 'ground': 1124, 'guards': 1125, 'guess': 1126, 'guests': 1127, 'guilt': 1128, 'gung': 1129, 'guy': 1130, 'guys': 1131, 'hackneyed': 1132, 'haggis': 1133, 'hair': 1134, 'hairsplitting': 1135, 'half': 1136, 'halfway': 1137, 'ham': 1138, 'hand': 1139, 'handle': 1140, 'handled': 1141, 'handles': 1142, 'hands': 1143, 'hang': 1144, 'hankies': 1145, 'hanks': 1146, 'happen': 1147, 'happened': 1148, 'happiness': 1149, 'happy': 1150, 'hard': 1151, 'harris': 1152, 'hate': 1153, 'hated': 1154, 'hatred': 1155, 'havilland': 1156, 'hay': 1157, 'hayao': 1158, 'hayworth': 1159, 'hbo': 1160, 'head': 1161, 'heads': 1162, 'hear': 1163, 'heard': 1164, 'heart': 1165, 'hearts': 1166, 'heartwarming': 1167, 'heaven': 1168, 'heche': 1169, 'heels': 1170, 'heist': 1171, 'helen': 1172, 'hell': 1173, 'hellish': 1174, 'helms': 1175, 'help': 1176, 'helping': 1177, 'helps': 1178, 'hence': 1179, 'hendrikson': 1180, 'hernandez': 1181, 'hero': 1182, 'heroes': 1183, 'heroine': 1184, 'heroism': 1185, 'hes': 1186, 'hide': 1187, 'high': 1188, 'higher': 1189, 'highest': 1190, 'highlights': 1191, 'highly': 1192, 'hilarious': 1193, 'hill': 1194, 'hilt': 1195, 'hip': 1196, 'history': 1197, 'hitchcock': 1198, 'ho': 1199, 'hockey': 1200, 'hoffman': 1201, 'hold': 1202, 'holding': 1203, 'holds': 1204, 'holes': 1205, 'hollander': 1206, 'hollow': 1207, 'hollywood': 1208, 'home': 1209, 'homework': 1210, 'honest': 1211, 'honestly': 1212, 'hoot': 1213, 'hope': 1214, 'hopefully': 1215, 'hopeless': 1216, 'horrendous': 1217, 'horrendously': 1218, 'horrible': 1219, 'horrid': 1220, 'horrified': 1221, 'horror': 1222, 'horse': 1223, 'hosting': 1224, 'hot': 1225, 'hour': 1226, 'hours': 1227, 'house': 1228, 'houses': 1229, 'howdy': 1230, 'howe': 1231, 'howell': 1232, 'however': 1233, 'huge': 1234, 'hugo': 1235, 'human': 1236, 'humanity': 1237, 'humans': 1238, 'hummh': 1239, 'humor': 1240, 'humorous': 1241, 'humour': 1242, 'hurt': 1243, 'huston': 1244, 'hype': 1245, 'hypocrisy': 1246, 'idea': 1247, 'idealogical': 1248, 'identified': 1249, 'identifies': 1250, 'identify': 1251, 'idiot': 1252, 'idiotic': 1253, 'idyllic': 1254, 'iffy': 1255, 'im': 1256, 'imaginable': 1257, 'imagination': 1258, 'imaginative': 1259, 'imagine': 1260, 'imdb': 1261, 'imitation': 1262, 'impact': 1263, 'imperial': 1264, 'implausible': 1265, 'important': 1266, 'impossible': 1267, 'impressed': 1268, 'impression': 1269, 'impressive': 1270, 'improved': 1271, 'improvement': 1272, 'improvisation': 1273, 'impulse': 1274, 'inappropriate': 1275, 'incendiary': 1276, 'includes': 1277, 'including': 1278, 'incomprehensible': 1279, 'inconsistencies': 1280, 'incorrectness': 1281, 'incredible': 1282, 'incredibly': 1283, 'indeed': 1284, 'indescribably': 1285, 'indication': 1286, 'indictment': 1287, 'indie': 1288, 'individual': 1289, 'indoor': 1290, 'indulgent': 1291, 'industry': 1292, 'ineptly': 1293, 'inexperience': 1294, 'inexplicable': 1295, 'initially': 1296, 'innocence': 1297, 'insane': 1298, 'inside': 1299, 'insincere': 1300, 'insipid': 1301, 'insomniacs': 1302, 'inspiration': 1303, 'inspiring': 1304, 'instant': 1305, 'instead': 1306, 'instruments': 1307, 'insulin': 1308, 'insult': 1309, 'intangibles': 1310, 'integral': 1311, 'integration': 1312, 'intelligence': 1313, 'intelligent': 1314, 'intense': 1315, 'intensity': 1316, 'intentions': 1317, 'interacting': 1318, 'interest': 1319, 'interested': 1320, 'interesting': 1321, 'interim': 1322, 'interplay': 1323, 'interpretations': 1324, 'interview': 1325, 'intoning': 1326, 'intrigued': 1327, 'inventive': 1328, 'involved': 1329, 'involves': 1330, 'involving': 1331, 'iq': 1332, 'ireland': 1333, 'ironically': 1334, 'irons': 1335, 'ironside': 1336, 'irritating': 1337, 'ishioka': 1338, 'iso': 1339, 'issue': 1340, 'issues': 1341, 'istagey': 1342, 'italian': 1343, 'ive': 1344, 'jack': 1345, 'jaclyn': 1346, 'james': 1347, 'jamie': 1348, 'japanese': 1349, 'jason': 1350, 'jay': 1351, 'jealousy': 1352, 'jean': 1353, 'jennifer': 1354, 'jerky': 1355, 'jerry': 1356, 'jessica': 1357, 'jessice': 1358, 'jet': 1359, 'jim': 1360, 'jimmy': 1361, 'job': 1362, 'jobs': 1363, 'joe': 1364, 'john': 1365, 'joins': 1366, 'joke': 1367, 'jokes': 1368, 'jonah': 1369, 'jones': 1370, 'journey': 1371, 'joy': 1372, 'joyce': 1373, 'juano': 1374, 'judge': 1375, 'judging': 1376, 'judith': 1377, 'judo': 1378, 'julian': 1379, 'june': 1380, 'junk': 1381, 'junkyard': 1382, 'justice': 1383, 'jutland': 1384, 'kanaly': 1385, 'kathy': 1386, 'keep': 1387, 'keeps': 1388, 'keira': 1389, 'keith': 1390, 'kept': 1391, 'kevin': 1392, 'kid': 1393, 'kidnapped': 1394, 'kids': 1395, 'kieslowski': 1396, 'kill': 1397, 'killer': 1398, 'killing': 1399, 'killings': 1400, 'kind': 1401, 'kinda': 1402, 'kirk': 1403, 'kitchy': 1404, 'knew': 1405, 'knightley': 1406, 'knocked': 1407, 'know': 1408, 'known': 1409, 'knows': 1410, 'koteas': 1411, 'kris': 1412, 'kristoffersen': 1413, 'kudos': 1414, 'la': 1415, 'labute': 1416, 'lack': 1417, 'lacked': 1418, 'lacks': 1419, 'ladies': 1420, 'lady': 1421, 'lame': 1422, 'lance': 1423, 'landscapes': 1424, 'lane': 1425, 'lange': 1426, 'largely': 1427, 'laselva': 1428, 'lassie': 1429, 'last': 1430, 'lasting': 1431, 'latched': 1432, 'late': 1433, 'later': 1434, 'latest': 1435, 'latifa': 1436, 'latin': 1437, 'latter': 1438, 'laugh': 1439, 'laughable': 1440, 'laughed': 1441, 'laughs': 1442, 'layers': 1443, 'lazy': 1444, 'lead': 1445, 'leading': 1446, 'leap': 1447, 'learn': 1448, 'least': 1449, 'leave': 1450, 'leaves': 1451, 'leaving': 1452, 'lee': 1453, 'left': 1454, 'legal': 1455, 'legendary': 1456, 'length': 1457, 'leni': 1458, 'less': 1459, 'lesser': 1460, 'lestat': 1461, 'let': 1462, 'lets': 1463, 'letting': 1464, 'level': 1465, 'levels': 1466, 'lewis': 1467, 'lid': 1468, 'lie': 1469, 'lies': 1470, 'lieutenant': 1471, 'life': 1472, 'lifetime': 1473, 'light': 1474, 'lighting': 1475, 'like': 1476, 'liked': 1477, 'likes': 1478, 'lilli': 1479, 'lilt': 1480, 'limitations': 1481, 'limited': 1482, 'linda': 1483, 'line': 1484, 'linear': 1485, 'lines': 1486, 'lino': 1487, 'lion': 1488, 'list': 1489, 'literally': 1490, 'littered': 1491, 'little': 1492, 'lived': 1493, 'lives': 1494, 'living': 1495, 'loads': 1496, 'local': 1497, 'location': 1498, 'locations': 1499, 'loewenhielm': 1500, 'logic': 1501, 'london': 1502, 'loneliness': 1503, 'long': 1504, 'longer': 1505, 'look': 1506, 'looked': 1507, 'looking': 1508, 'looks': 1509, 'loose': 1510, 'loosely': 1511, 'lord': 1512, 'los': 1513, 'losing': 1514, 'lost': 1515, 'lot': 1516, 'lots': 1517, 'lousy': 1518, 'lovable': 1519, 'love': 1520, 'loved': 1521, 'lovely': 1522, 'loves': 1523, 'low': 1524, 'lower': 1525, 'loyalty': 1526, 'lucio': 1527, 'lucy': 1528, 'lugosi': 1529, 'lust': 1530, 'luv': 1531, 'lyrics': 1532, 'macbeth': 1533, 'machine': 1534, 'mad': 1535, 'made': 1536, 'magnificent': 1537, 'main': 1538, 'mainly': 1539, 'major': 1540, 'make': 1541, 'maker': 1542, 'makers': 1543, 'makes': 1544, 'making': 1545, 'male': 1546, 'males': 1547, 'malta': 1548, 'man': 1549, 'managed': 1550, 'manages': 1551, 'manna': 1552, 'mansonites': 1553, 'many': 1554, 'marbles': 1555, 'march': 1556, 'marine': 1557, 'marion': 1558, 'mark': 1559, 'marred': 1560, 'marriage': 1561, 'martin': 1562, 'masculine': 1563, 'masculinity': 1564, 'massive': 1565, 'master': 1566, 'masterful': 1567, 'masterpiece': 1568, 'masterpieces': 1569, 'material': 1570, 'matrix': 1571, 'matter': 1572, 'matthews': 1573, 'mature': 1574, 'may': 1575, 'maybe': 1576, 'mchattie': 1577, 'mclaglen': 1578, 'meagre': 1579, 'mean': 1580, 'meanders': 1581, 'meaning': 1582, 'meanings': 1583, 'meant': 1584, 'medical': 1585, 'mediocre': 1586, 'meld': 1587, 'melodrama': 1588, 'melville': 1589, 'member': 1590, 'members': 1591, 'memorable': 1592, 'memories': 1593, 'memorized': 1594, 'menace': 1595, 'menacing': 1596, 'mention': 1597, 'mercy': 1598, 'meredith': 1599, 'merit': 1600, 'mesmerising': 1601, 'mess': 1602, 'messages': 1603, 'meteorite': 1604, 'mexican': 1605, 'michael': 1606, 'mickey': 1607, 'microsoft': 1608, 'middle': 1609, 'might': 1610, 'mighty': 1611, 'mind': 1612, 'mindblowing': 1613, 'miner': 1614, 'mini': 1615, 'minor': 1616, 'minute': 1617, 'minutes': 1618, 'mirrormask': 1619, 'miserable': 1620, 'miserably': 1621, 'mishima': 1622, 'misplace': 1623, 'miss': 1624, 'missed': 1625, 'mistakes': 1626, 'miyazaki': 1627, 'modern': 1628, 'modest': 1629, 'mollusk': 1630, 'moment': 1631, 'moments': 1632, 'momentum': 1633, 'money': 1634, 'monica': 1635, 'monolog': 1636, 'monotonous': 1637, 'monster': 1638, 'monstrous': 1639, 'monumental': 1640, 'moral': 1641, 'morgan': 1642, 'morons': 1643, 'mostly': 1644, 'mother': 1645, 'motion': 1646, 'motivations': 1647, 'mountain': 1648, 'mouse': 1649, 'mouth': 1650, 'move': 1651, 'moved': 1652, 'movements': 1653, 'moves': 1654, 'movie': 1655, 'movies': 1656, 'moving': 1657, 'ms': 1658, 'much': 1659, 'muddled': 1660, 'muppets': 1661, 'murder': 1662, 'murdered': 1663, 'murdering': 1664, 'murky': 1665, 'music': 1666, 'musician': 1667, 'must': 1668, 'mystifying': 1669, 'n': 1670, 'naked': 1671, 'narration': 1672, 'narrative': 1673, 'nasty': 1674, 'national': 1675, 'nationalities': 1676, 'native': 1677, 'natural': 1678, 'nature': 1679, 'naughty': 1680, 'nearly': 1681, 'necklace': 1682, 'need': 1683, 'needed': 1684, 'needlessly': 1685, 'negative': 1686, 'negulesco': 1687, 'neighbour': 1688, 'neil': 1689, 'nerves': 1690, 'nervous': 1691, 'net': 1692, 'netflix': 1693, 'network': 1694, 'never': 1695, 'nevertheless': 1696, 'nevsky': 1697, 'new': 1698, 'next': 1699, 'nice': 1700, 'nicola': 1701, 'night': 1702, 'nimoy': 1703, 'nine': 1704, 'no': 1705, 'noble': 1706, 'nobody': 1707, 'noir': 1708, 'non': 1709, 'none': 1710, 'nonetheless': 1711, 'nonsense': 1712, 'nor': 1713, 'normally': 1714, 'northern': 1715, 'nostalgia': 1716, 'not': 1717, 'notable': 1718, 'notch': 1719, 'note': 1720, 'noteworthy': 1721, 'nothing': 1722, 'novella': 1723, 'number': 1724, 'numbers': 1725, 'nun': 1726, 'nuns': 1727, 'nurse': 1728, 'nut': 1729, 'nuts': 1730, 'obliged': 1731, 'obsessed': 1732, 'obvious': 1733, 'obviously': 1734, 'occasionally': 1735, 'occupied': 1736, 'occur': 1737, 'occurs': 1738, 'odd': 1739, 'offend': 1740, 'offensive': 1741, 'offer': 1742, 'offers': 1743, 'often': 1744, 'oh': 1745, 'okay': 1746, 'old': 1747, 'olde': 1748, 'older': 1749, 'ole': 1750, 'olivia': 1751, 'omit': 1752, 'one': 1753, 'ones': 1754, 'open': 1755, 'opened': 1756, 'opening': 1757, 'operas': 1758, 'opinion': 1759, 'ordeal': 1760, 'oriented': 1761, 'original': 1762, 'originality': 1763, 'origins': 1764, 'ortolani': 1765, 'oscar': 1766, 'others': 1767, 'otherwise': 1768, 'ought': 1769, 'outlandish': 1770, 'outlets': 1771, 'outside': 1772, 'outward': 1773, 'overacting': 1774, 'overall': 1775, 'overcome': 1776, 'overdue': 1777, 'overly': 1778, 'overs': 1779, 'overt': 1780, 'overwrought': 1781, 'owed': 1782, 'owls': 1783, 'owned': 1784, 'owns': 1785, 'oy': 1786, 'pace': 1787, 'paced': 1788, 'pacing': 1789, 'pack': 1790, 'paid': 1791, 'painful': 1792, 'painfully': 1793, 'paint': 1794, 'painted': 1795, 'pair': 1796, 'palance': 1797, 'pandering': 1798, 'pans': 1799, 'paolo': 1800, 'pap': 1801, 'paper': 1802, 'par': 1803, 'parents': 1804, 'park': 1805, 'parker': 1806, 'part': 1807, 'partaking': 1808, 'particular': 1809, 'particularly': 1810, 'parts': 1811, 'passed': 1812, 'passion': 1813, 'past': 1814, 'patent': 1815, 'pathetic': 1816, 'patriotism': 1817, 'paul': 1818, 'pay': 1819, 'peaking': 1820, 'pearls': 1821, 'peculiarity': 1822, 'pedestal': 1823, 'pencil': 1824, 'people': 1825, 'perabo': 1826, 'perfect': 1827, 'perfected': 1828, 'perfectly': 1829, 'performance': 1830, 'performances': 1831, 'perhaps': 1832, 'period': 1833, 'perplexing': 1834, 'person': 1835, 'personalities': 1836, 'personally': 1837, 'peter': 1838, 'pg': 1839, 'phantasm': 1840, 'phenomenal': 1841, 'philippa': 1842, 'phony': 1843, 'photograph': 1844, 'photography': 1845, 'phrase': 1846, 'physical': 1847, 'pi': 1848, 'picked': 1849, 'picture': 1850, 'pictures': 1851, 'piece': 1852, 'pieces': 1853, 'pile': 1854, 'pillow': 1855, 'pitch': 1856, 'pitiful': 1857, 'pixar': 1858, 'place': 1859, 'places': 1860, 'plain': 1861, 'plane': 1862, 'planned': 1863, 'plants': 1864, 'play': 1865, 'played': 1866, 'player': 1867, 'players': 1868, 'playing': 1869, 'plays': 1870, 'pleasant': 1871, 'pleased': 1872, 'pleaser': 1873, 'pleasing': 1874, 'pledge': 1875, 'plenty': 1876, 'plmer': 1877, 'plot': 1878, 'plug': 1879, 'plus': 1880, 'pm': 1881, 'poet': 1882, 'poetry': 1883, 'poignant': 1884, 'point': 1885, 'pointillistic': 1886, 'pointless': 1887, 'poised': 1888, 'poler': 1889, 'political': 1890, 'politically': 1891, 'politics': 1892, 'ponyo': 1893, 'poor': 1894, 'poorly': 1895, 'popcorn': 1896, 'popular': 1897, 'portrayal': 1898, 'portrayals': 1899, 'portrayed': 1900, 'portraying': 1901, 'positive': 1902, 'possible': 1903, 'possibly': 1904, 'post': 1905, 'potted': 1906, 'power': 1907, 'powerful': 1908, 'powerhouse': 1909, 'practical': 1910, 'practically': 1911, 'pray': 1912, 'precisely': 1913, 'predict': 1914, 'predictable': 1915, 'predictably': 1916, 'prejudice': 1917, 'prelude': 1918, 'premise': 1919, 'prepared': 1920, 'presence': 1921, 'presents': 1922, 'preservation': 1923, 'president': 1924, 'pretentious': 1925, 'pretext': 1926, 'pretty': 1927, 'previous': 1928, 'primal': 1929, 'primary': 1930, 'probably': 1931, 'problem': 1932, 'problems': 1933, 'proceedings': 1934, 'process': 1935, 'produce': 1936, 'produced': 1937, 'producer': 1938, 'producers': 1939, 'product': 1940, 'production': 1941, 'professionals': 1942, 'professor': 1943, 'progresses': 1944, 'promote': 1945, 'prompted': 1946, 'prone': 1947, 'propaganda': 1948, 'properly': 1949, 'proud': 1950, 'proudly': 1951, 'provided': 1952, 'provokes': 1953, 'provoking': 1954, 'ps': 1955, 'pseudo': 1956, 'psychological': 1957, 'psychotic': 1958, 'public': 1959, 'pull': 1960, 'pulling': 1961, 'pulls': 1962, 'punched': 1963, 'punches': 1964, 'punish': 1965, 'punishment': 1966, 'puppet': 1967, 'puppets': 1968, 'pure': 1969, 'purity': 1970, 'put': 1971, 'putting': 1972, 'puzzle': 1973, 'pyromaniac': 1974, 'q': 1975, 'qu': 1976, 'quaid': 1977, 'qualities': 1978, 'quality': 1979, 'question': 1980, 'questioning': 1981, 'quick': 1982, 'quicker': 1983, 'quiet': 1984, 'quinn': 1985, 'quite': 1986, 'r': 1987, 'race': 1988, 'racial': 1989, 'racism': 1990, 'radiant': 1991, 'raging': 1992, 'random': 1993, 'range': 1994, 'ranks': 1995, 'rare': 1996, 'rate': 1997, 'rated': 1998, 'rather': 1999, 'rating': 2000, 'ratings': 2001, 'raver': 2002, 'raw': 2003, 'ray': 2004, 'reactions': 2005, 'readers': 2006, 'reading': 2007, 'ready': 2008, 'real': 2009, 'realised': 2010, 'realistic': 2011, 'reality': 2012, 'realize': 2013, 'realized': 2014, 'really': 2015, 'reason': 2016, 'reasonable': 2017, 'reasons': 2018, 'receive': 2019, 'received': 2020, 'recent': 2021, 'recently': 2022, 'recommend': 2023, 'recommended': 2024, 'reconciliation': 2025, 'recover': 2026, 'recurring': 2027, 'redeemed': 2028, 'redeeming': 2029, 'reenactments': 2030, 'references': 2031, 'reflected': 2032, 'refreshing': 2033, 'regardless': 2034, 'regret': 2035, 'regrettable': 2036, 'regrettably': 2037, 'rejection': 2038, 'relate': 2039, 'related': 2040, 'relation': 2041, 'relations': 2042, 'relationship': 2043, 'relationships': 2044, 'relatively': 2045, 'relaxing': 2046, 'release': 2047, 'released': 2048, 'relief': 2049, 'relying': 2050, 'remaining': 2051, 'remake': 2052, 'remarkable': 2053, 'remember': 2054, 'reminded': 2055, 'remotely': 2056, 'removing': 2057, 'rendering': 2058, 'rendition': 2059, 'renowned': 2060, 'rent': 2061, 'repair': 2062, 'repeated': 2063, 'repeating': 2064, 'repeats': 2065, 'repertory': 2066, 'reporter': 2067, 'represents': 2068, 'require': 2069, 'rescue': 2070, 'researched': 2071, 'resounding': 2072, 'respecting': 2073, 'rest': 2074, 'restrained': 2075, 'result': 2076, 'results': 2077, 'resume': 2078, 'retarded': 2079, 'retreat': 2080, 'return': 2081, 'revealing': 2082, 'revenge': 2083, 'revere': 2084, 'reverse': 2085, 'review': 2086, 'reviewer': 2087, 'reviewers': 2088, 'reviews': 2089, 'rice': 2090, 'rickman': 2091, 'ridiculous': 2092, 'ridiculousness': 2093, 'right': 2094, 'riot': 2095, 'rips': 2096, 'rise': 2097, 'rita': 2098, 'rivalry': 2099, 'riveted': 2100, 'riz': 2101, 'road': 2102, 'robert': 2103, 'robotic': 2104, 'rochon': 2105, 'rocked': 2106, 'rocks': 2107, 'roeg': 2108, 'role': 2109, 'roles': 2110, 'roller': 2111, 'rolls': 2112, 'romantic': 2113, 'room': 2114, 'roosevelt': 2115, 'roth': 2116, 'rough': 2117, 'round': 2118, 'routine': 2119, 'row': 2120, 'rpg': 2121, 'rpger': 2122, 'rubbish': 2123, 'rubin': 2124, 'rumbles': 2125, 'run': 2126, 'running': 2127, 'ruthless': 2128, 'ryan': 2129, 'ryans': 2130, 'sabotages': 2131, 'sack': 2132, 'sacrifice': 2133, 'sad': 2134, 'said': 2135, 'sake': 2136, 'salesman': 2137, 'sam': 2138, 'sample': 2139, 'sand': 2140, 'sandra': 2141, 'sappiest': 2142, 'sarcophage': 2143, 'sat': 2144, 'satanic': 2145, 'savalas': 2146, 'savant': 2147, 'save': 2148, 'savor': 2149, 'saw': 2150, 'say': 2151, 'says': 2152, 'scale': 2153, 'scamp': 2154, 'scare': 2155, 'scared': 2156, 'scares': 2157, 'scary': 2158, 'scene': 2159, 'scenery': 2160, 'scenes': 2161, 'schilling': 2162, 'schizophrenic': 2163, 'school': 2164, 'schoolers': 2165, 'schrader': 2166, 'schultz': 2167, 'sci': 2168, 'science': 2169, 'scientist': 2170, 'score': 2171, 'scot': 2172, 'scream': 2173, 'screamy': 2174, 'screen': 2175, 'screened': 2176, 'screenplay': 2177, 'screenwriter': 2178, 'scrimm': 2179, 'script': 2180, 'scripted': 2181, 'scripting': 2182, 'scripts': 2183, 'sculpture': 2184, 'sea': 2185, 'seamless': 2186, 'seamlessly': 2187, 'sean': 2188, 'season': 2189, 'seat': 2190, 'second': 2191, 'secondary': 2192, 'secondly': 2193, 'see': 2194, 'seeing': 2195, 'seem': 2196, 'seemed': 2197, 'seems': 2198, 'seen': 2199, 'selections': 2200, 'self': 2201, 'sells': 2202, 'semi': 2203, 'senior': 2204, 'sense': 2205, 'senses': 2206, 'sensibility': 2207, 'sensitivities': 2208, 'sentiment': 2209, 'seperate': 2210, 'sequel': 2211, 'sequels': 2212, 'sequence': 2213, 'sequences': 2214, 'series': 2215, 'serious': 2216, 'seriously': 2217, 'served': 2218, 'set': 2219, 'sets': 2220, 'setting': 2221, 'settings': 2222, 'seuss': 2223, 'several': 2224, 'sex': 2225, 'shakespear': 2226, 'shakespears': 2227, 'shallow': 2228, 'shame': 2229, 'shameful': 2230, 'share': 2231, 'sharing': 2232, 'sharply': 2233, 'shatner': 2234, 'shattered': 2235, 'shed': 2236, 'sheer': 2237, 'shelf': 2238, 'shell': 2239, 'shelves': 2240, 'shenanigans': 2241, 'shepard': 2242, 'shined': 2243, 'shirley': 2244, 'shocking': 2245, 'shooting': 2246, 'short': 2247, 'shortlist': 2248, 'shot': 2249, 'shots': 2250, 'show': 2251, 'showcasing': 2252, 'showed': 2253, 'shows': 2254, 'shut': 2255, 'sibling': 2256, 'sick': 2257, 'side': 2258, 'sidelined': 2259, 'sign': 2260, 'significant': 2261, 'silent': 2262, 'silly': 2263, 'simmering': 2264, 'simplifying': 2265, 'simply': 2266, 'since': 2267, 'sincere': 2268, 'sing': 2269, 'singing': 2270, 'single': 2271, 'sinister': 2272, 'sink': 2273, 'sinking': 2274, 'sister': 2275, 'sisters': 2276, 'sit': 2277, 'sitcoms': 2278, 'site': 2279, 'sites': 2280, 'sits': 2281, 'situation': 2282, 'situations': 2283, 'skilled': 2284, 'skip': 2285, 'slackers': 2286, 'slavic': 2287, 'sleep': 2288, 'slideshow': 2289, 'slightest': 2290, 'slightly': 2291, 'slimy': 2292, 'sloppy': 2293, 'slow': 2294, 'slurs': 2295, 'smack': 2296, 'small': 2297, 'smart': 2298, 'smells': 2299, 'smile': 2300, 'smiling': 2301, 'smith': 2302, 'smoothly': 2303, 'snider': 2304, 'snow': 2305, 'soap': 2306, 'sobering': 2307, 'social': 2308, 'soldiers': 2309, 'sole': 2310, 'solid': 2311, 'solidifying': 2312, 'solving': 2313, 'someone': 2314, 'something': 2315, 'sometimes': 2316, 'somewhat': 2317, 'son': 2318, 'song': 2319, 'songs': 2320, 'soon': 2321, 'sophisticated': 2322, 'sorrentino': 2323, 'sorry': 2324, 'sort': 2325, 'soul': 2326, 'sound': 2327, 'sounded': 2328, 'sounds': 2329, 'soundtrack': 2330, 'sour': 2331, 'south': 2332, 'southern': 2333, 'space': 2334, 'spacek': 2335, 'spacey': 2336, 'span': 2337, 'speak': 2338, 'speaking': 2339, 'special': 2340, 'speed': 2341, 'spend': 2342, 'spent': 2343, 'spew': 2344, 'sphere': 2345, 'spiffy': 2346, 'splendid': 2347, 'spock': 2348, 'spoil': 2349, 'spoiled': 2350, 'spoiler': 2351, 'spoilers': 2352, 'spot': 2353, 'spy': 2354, 'squibs': 2355, 'stable': 2356, 'stage': 2357, 'stagy': 2358, 'stand': 2359, 'standout': 2360, 'stanwyck': 2361, 'star': 2362, 'starlet': 2363, 'starring': 2364, 'stars': 2365, 'start': 2366, 'started': 2367, 'starts': 2368, 'state': 2369, 'stay': 2370, 'stayed': 2371, 'stealing': 2372, 'steamboat': 2373, 'steele': 2374, 'step': 2375, 'stephen': 2376, 'stereotypes': 2377, 'stereotypically': 2378, 'steve': 2379, 'stewart': 2380, 'stick': 2381, 'still': 2382, 'stinker': 2383, 'stinks': 2384, 'stocking': 2385, 'stockings': 2386, 'stoic': 2387, 'store': 2388, 'stories': 2389, 'storm': 2390, 'story': 2391, 'storyline': 2392, 'storytelling': 2393, 'stowe': 2394, 'strange': 2395, 'stranger': 2396, 'stratus': 2397, 'straw': 2398, 'street': 2399, 'strident': 2400, 'string': 2401, 'strives': 2402, 'strokes': 2403, 'strong': 2404, 'struck': 2405, 'structure': 2406, 'struggle': 2407, 'stuart': 2408, 'student': 2409, 'students': 2410, 'studio': 2411, 'study': 2412, 'stuff': 2413, 'stunning': 2414, 'stupid': 2415, 'stupidity': 2416, 'style': 2417, 'stylized': 2418, 'sub': 2419, 'subject': 2420, 'subjects': 2421, 'sublime': 2422, 'sublimely': 2423, 'subplots': 2424, 'subtitles': 2425, 'subtle': 2426, 'subversive': 2427, 'subverting': 2428, 'succeeded': 2429, 'succeeds': 2430, 'success': 2431, 'suck': 2432, 'sucked': 2433, 'sucks': 2434, 'suffered': 2435, 'suffering': 2436, 'suggest': 2437, 'suggests': 2438, 'suited': 2439, 'sum': 2440, 'summary': 2441, 'sundays': 2442, 'super': 2443, 'superb': 2444, 'superbad': 2445, 'superbly': 2446, 'superficial': 2447, 'superlative': 2448, 'supernatural': 2449, 'supporting': 2450, 'supposed': 2451, 'supposedly': 2452, 'sure': 2453, 'surely': 2454, 'surf': 2455, 'surface': 2456, 'surprised': 2457, 'surprises': 2458, 'surprising': 2459, 'surprisingly': 2460, 'surrounding': 2461, 'surroundings': 2462, 'survivors': 2463, 'suspense': 2464, 'suspension': 2465, 'sven': 2466, 'swamp': 2467, 'sweep': 2468, 'sweet': 2469, 'switched': 2470, 'swords': 2471, 'sydney': 2472, 'sympathetic': 2473, 'syrupy': 2474, 'system': 2475, 'tacky': 2476, 'taelons': 2477, 'take': 2478, 'taken': 2479, 'takes': 2480, 'taking': 2481, 'tale': 2482, 'talent': 2483, 'talented': 2484, 'talents': 2485, 'talk': 2486, 'tanks': 2487, 'taped': 2488, 'tardis': 2489, 'task': 2490, 'taste': 2491, 'taxidermists': 2492, 'taylor': 2493, 'teacher': 2494, 'teaches': 2495, 'team': 2496, 'tear': 2497, 'tears': 2498, 'technically': 2499, 'teddy': 2500, 'tedium': 2501, 'teen': 2502, 'teenagers': 2503, 'teeth': 2504, 'telephone': 2505, 'television': 2506, 'tell': 2507, 'telly': 2508, 'temperaments': 2509, 'ten': 2510, 'tender': 2511, 'tension': 2512, 'tensions': 2513, 'terminology': 2514, 'terms': 2515, 'terrible': 2516, 'terribly': 2517, 'terrific': 2518, 'terror': 2519, 'th': 2520, 'thanks': 2521, 'theater': 2522, 'theatre': 2523, 'theatres': 2524, 'theatrical': 2525, 'theme': 2526, 'themes': 2527, 'therapy': 2528, 'thick': 2529, 'thing': 2530, 'things': 2531, 'think': 2532, 'thinking': 2533, 'thomerson': 2534, 'thoroughly': 2535, 'thorsen': 2536, 'though': 2537, 'thought': 2538, 'thoughts': 2539, 'thousand': 2540, 'thread': 2541, 'three': 2542, 'threshold': 2543, 'thrilled': 2544, 'thriller': 2545, 'thrillers': 2546, 'throughout': 2547, 'throwback': 2548, 'thrown': 2549, 'thug': 2550, 'thumper': 2551, 'thunderbirds': 2552, 'thus': 2553, 'ticker': 2554, 'tickets': 2555, 'tightly': 2556, 'time': 2557, 'timeless': 2558, 'timely': 2559, 'timers': 2560, 'times': 2561, 'timing': 2562, 'tiny': 2563, 'tired': 2564, 'title': 2565, 'titta': 2566, 'today': 2567, 'together': 2568, 'told': 2569, 'tolerable': 2570, 'tolerate': 2571, 'tom': 2572, 'tomorrow': 2573, 'tone': 2574, 'tongue': 2575, 'tonight': 2576, 'tons': 2577, 'tony': 2578, 'took': 2579, 'toons': 2580, 'top': 2581, 'tops': 2582, 'torture': 2583, 'tortured': 2584, 'total': 2585, 'totally': 2586, 'touch': 2587, 'touches': 2588, 'touching': 2589, 'tough': 2590, 'towards': 2591, 'towers': 2592, 'townsend': 2593, 'track': 2594, 'tract': 2595, 'traditional': 2596, 'traffic': 2597, 'trailer': 2598, 'train': 2599, 'tranquillity': 2600, 'transcend': 2601, 'transfers': 2602, 'translate': 2603, 'translating': 2604, 'trap': 2605, 'trash': 2606, 'trashy': 2607, 'treachery': 2608, 'treasure': 2609, 'treat': 2610, 'treatments': 2611, 'trek': 2612, 'tremendous': 2613, 'tremendously': 2614, 'tries': 2615, 'trilogy': 2616, 'trinity': 2617, 'trip': 2618, 'triumphed': 2619, 'trond': 2620, 'trooper': 2621, 'trouble': 2622, 'truck': 2623, 'true': 2624, 'truly': 2625, 'trumbull': 2626, 'trumpeter': 2627, 'truth': 2628, 'try': 2629, 'trying': 2630, 'trysts': 2631, 'tsunami': 2632, 'tuneful': 2633, 'turkey': 2634, 'turn': 2635, 'turned': 2636, 'turns': 2637, 'tv': 2638, 'twice': 2639, 'twirling': 2640, 'twist': 2641, 'twists': 2642, 'two': 2643, 'tying': 2644, 'type': 2645, 'typical': 2646, 'u': 2647, 'ue': 2648, 'ugliest': 2649, 'ugly': 2650, 'uhura': 2651, 'ultra': 2652, 'um': 2653, 'unaccompanied': 2654, 'unbearable': 2655, 'unbearably': 2656, 'unbelievable': 2657, 'uncalled': 2658, 'unconditional': 2659, 'unconvincing': 2660, 'underacting': 2661, 'underappreciated': 2662, 'underbite': 2663, 'underlines': 2664, 'underlying': 2665, 'underneath': 2666, 'underrated': 2667, 'understand': 2668, 'understanding': 2669, 'understated': 2670, 'understatement': 2671, 'understood': 2672, 'undertone': 2673, 'underwater': 2674, 'undoubtedly': 2675, 'uneasy': 2676, 'unemployed': 2677, 'unethical': 2678, 'unfaithful': 2679, 'unfolds': 2680, 'unforgettable': 2681, 'unfortunate': 2682, 'unfortunately': 2683, 'unfunny': 2684, 'unintentionally': 2685, 'uninteresting': 2686, 'union': 2687, 'unique': 2688, 'uniqueness': 2689, 'universal': 2690, 'universe': 2691, 'unless': 2692, 'unlockable': 2693, 'unmatched': 2694, 'unmitigated': 2695, 'unmoving': 2696, 'unnecessary': 2697, 'unneeded': 2698, 'unoriginal': 2699, 'unpleasant': 2700, 'unpredictability': 2701, 'unpredictable': 2702, 'unrealistic': 2703, 'unrecognizable': 2704, 'unrecommended': 2705, 'unremarkable': 2706, 'unrestrained': 2707, 'unsatisfactory': 2708, 'unwatchable': 2709, 'upa': 2710, 'uplifting': 2711, 'upper': 2712, 'ups': 2713, 'uptight': 2714, 'ursula': 2715, 'us': 2716, 'use': 2717, 'used': 2718, 'user': 2719, 'uses': 2720, 'using': 2721, 'ussr': 2722, 'usual': 2723, 'utter': 2724, 'utterly': 2725, 'v': 2726, 'valentine': 2727, 'value': 2728, 'values': 2729, 'vampire': 2730, 'vandiver': 2731, 'variation': 2732, 'vehicles': 2733, 'ventura': 2734, 'verbal': 2735, 'verbatim': 2736, 'versatile': 2737, 'version': 2738, 'versus': 2739, 'vessel': 2740, 'veteran': 2741, 'vey': 2742, 'vibe': 2743, 'victor': 2744, 'video': 2745, 'view': 2746, 'viewer': 2747, 'viewing': 2748, 'views': 2749, 'villain': 2750, 'villains': 2751, 'violence': 2752, 'violin': 2753, 'virtue': 2754, 'virus': 2755, 'vision': 2756, 'visual': 2757, 'visually': 2758, 'vitally': 2759, 'vivian': 2760, 'vivid': 2761, 'vocal': 2762, 'voice': 2763, 'volatile': 2764, 'volcano': 2765, 'vomit': 2766, 'vomited': 2767, 'voyage': 2768, 'vulcan': 2769, 'waiting': 2770, 'waitress': 2771, 'walk': 2772, 'walked': 2773, 'wall': 2774, 'want': 2775, 'wanted': 2776, 'wanting': 2777, 'wants': 2778, 'war': 2779, 'warmth': 2780, 'warn': 2781, 'warning': 2782, 'wartime': 2783, 'warts': 2784, 'washed': 2785, 'washing': 2786, 'waste': 2787, 'wasted': 2788, 'waster': 2789, 'wasting': 2790, 'watch': 2791, 'watchable': 2792, 'watched': 2793, 'watching': 2794, 'water': 2795, 'watkins': 2796, 'watson': 2797, 'wave': 2798, 'way': 2799, 'waylaid': 2800, 'wayne': 2801, 'ways': 2802, 'wb': 2803, 'weak': 2804, 'weaker': 2805, 'weariness': 2806, 'weaving': 2807, 'website': 2808, 'wedding': 2809, 'weight': 2810, 'weird': 2811, 'well': 2812, 'welsh': 2813, 'went': 2814, 'whatever': 2815, 'whatsoever': 2816, 'whenever': 2817, 'whether': 2818, 'whine': 2819, 'whiny': 2820, 'white': 2821, 'whites': 2822, 'whoever': 2823, 'whole': 2824, 'wholesome': 2825, 'wide': 2826, 'widmark': 2827, 'wife': 2828, 'wih': 2829, 'wild': 2830, 'wilkinson': 2831, 'william': 2832, 'willie': 2833, 'wily': 2834, 'win': 2835, 'wind': 2836, 'wise': 2837, 'wish': 2838, 'within': 2839, 'without': 2840, 'witticisms': 2841, 'witty': 2842, 'woa': 2843, 'women': 2844, 'wonder': 2845, 'wondered': 2846, 'wonderful': 2847, 'wonderfully': 2848, 'wong': 2849, 'wont': 2850, 'woo': 2851, 'wooden': 2852, 'word': 2853, 'words': 2854, 'work': 2855, 'worked': 2856, 'working': 2857, 'works': 2858, 'world': 2859, 'worry': 2860, 'worse': 2861, 'worst': 2862, 'worth': 2863, 'worthless': 2864, 'worthwhile': 2865, 'worthy': 2866, 'would': 2867, 'wouldnt': 2868, 'woven': 2869, 'wow': 2870, 'wrap': 2871, 'write': 2872, 'writer': 2873, 'writers': 2874, 'writing': 2875, 'written': 2876, 'wrong': 2877, 'wrote': 2878, 'x': 2879, 'yardley': 2880, 'yawn': 2881, 'yeah': 2882, 'year': 2883, 'years': 2884, 'yelps': 2885, 'yes': 2886, 'yet': 2887, 'young': 2888, 'younger': 2889, 'youthful': 2890, 'youtube': 2891, 'yun': 2892, 'z': 2893, 'zillion': 2894, 'zombie': 2895, 'zombiez': 2896}\n"
          ],
          "name": "stdout"
        }
      ]
    },
    {
      "cell_type": "code",
      "metadata": {
        "id": "sdcY0zqO7QC6"
      },
      "source": [
        "#transform function\n",
        "\n",
        "def IDF(dataset,word):\n",
        "  count = 0\n",
        "  for row in dataset:\n",
        "    if word in row:\n",
        "      count = count+1\n",
        "  return count\n",
        "\n",
        "\n",
        "def transform(dataset,vocab):\n",
        "    rows = []\n",
        "    columns = []\n",
        "    values = []\n",
        "    if isinstance(dataset, (list,)):\n",
        "        for idx, row in enumerate(tqdm(dataset)): # for each document in the dataset\n",
        "            # it will return a dict type object where key is the word and values is its frequency, {word:frequency}\n",
        "            word_freq = dict(Counter(row.split()))\n",
        "            # for every unique word in the document\n",
        "            for word, freq in word_freq.items():  # for each unique word in the review.                \n",
        "                if len(word) < 2:\n",
        "                    continue\n",
        "                # we will check if its there in the vocabulary that we build in fit() function\n",
        "                # dict.get() function will return the values, if the key doesn't exits it will return -1\n",
        "                col_index = vocab.get(word, -1) # retreving the dimension number of a word\n",
        "                # if the word exists\n",
        "                if col_index !=-1:\n",
        "                    # we are storing the index of the document\n",
        "                    rows.append(idx)\n",
        "                    # we are storing the dimensions of the word\n",
        "                    columns.append(col_index)\n",
        "                    # we are storing the frequency of the word\n",
        "\n",
        "                    #  every thing here is same except\n",
        "                    # (val = (freq/len(row.split()))*(log10(len(dataset)/IDF(dataset,word))))\n",
        "                    \n",
        "                    val = (freq/len(row.split()))*(log10(len(dataset)/IDF(dataset,word)))  \n",
        "                    values.append(val) #val-freq\n",
        "        return csr_matrix((values, (rows,columns)), shape=(len(dataset),len(vocab)))\n",
        "    else:\n",
        "        print(\"you need to pass list of strings\")"
      ],
      "execution_count": null,
      "outputs": []
    },
    {
      "cell_type": "code",
      "metadata": {
        "colab": {
          "base_uri": "https://localhost:8080/"
        },
        "id": "vR8txwvG7YCE",
        "outputId": "8dc7e616-95aa-4157-de29-ff305245ff4f"
      },
      "source": [
        "print(list(vocab.keys()))\n",
        "print(transform(corpus, vocab).toarray())"
      ],
      "execution_count": null,
      "outputs": [
        {
          "output_type": "stream",
          "text": [
            "\r  0%|          | 0/746 [00:00<?, ?it/s]"
          ],
          "name": "stderr"
        },
        {
          "output_type": "stream",
          "text": [
            "['aailiyah', 'abandoned', 'ability', 'abroad', 'absolutely', 'abstruse', 'abysmal', 'academy', 'accents', 'accessible', 'acclaimed', 'accolades', 'accurate', 'accurately', 'accused', 'achievement', 'achille', 'ackerman', 'act', 'acted', 'acting', 'action', 'actions', 'actor', 'actors', 'actress', 'actresses', 'actually', 'adams', 'adaptation', 'add', 'added', 'addition', 'admins', 'admiration', 'admitted', 'adorable', 'adrift', 'adventure', 'advise', 'aerial', 'aesthetically', 'affected', 'affleck', 'afraid', 'africa', 'afternoon', 'age', 'aged', 'ages', 'ago', 'agree', 'agreed', 'aimless', 'air', 'aired', 'akasha', 'akin', 'alert', 'alexander', 'alike', 'allison', 'allow', 'allowing', 'almost', 'along', 'alongside', 'already', 'also', 'although', 'always', 'amateurish', 'amaze', 'amazed', 'amazing', 'amazingly', 'america', 'american', 'americans', 'among', 'amount', 'amusing', 'amust', 'anatomist', 'angel', 'angela', 'angeles', 'angelina', 'angle', 'angles', 'angry', 'anguish', 'angus', 'animals', 'animated', 'animation', 'anita', 'ann', 'anne', 'anniversary', 'annoying', 'another', 'anthony', 'antithesis', 'anyone', 'anything', 'anyway', 'apart', 'appalling', 'appealing', 'appearance', 'appears', 'applauded', 'applause', 'appreciate', 'appropriate', 'apt', 'argued', 'armageddon', 'armand', 'around', 'array', 'art', 'articulated', 'artiness', 'artist', 'artistic', 'artless', 'arts', 'aside', 'ask', 'asleep', 'aspect', 'aspects', 'ass', 'assante', 'assaulted', 'assistant', 'astonishingly', 'astronaut', 'atmosphere', 'atrocious', 'atrocity', 'attempt', 'attempted', 'attempting', 'attempts', 'attention', 'attractive', 'audience', 'audio', 'aurv', 'austen', 'austere', 'author', 'average', 'aversion', 'avoid', 'avoided', 'award', 'awarded', 'awards', 'away', 'awesome', 'awful', 'awkwardly', 'aye', 'b', 'baaaaaad', 'babbling', 'babie', 'baby', 'babysitting', 'back', 'backdrop', 'backed', 'bad', 'badly', 'bag', 'bailey', 'bakery', 'balance', 'balanced', 'ball', 'ballet', 'balls', 'band', 'barcelona', 'barely', 'barking', 'barney', 'barren', 'based', 'basic', 'basically', 'bat', 'bates', 'baxendale', 'bear', 'beautiful', 'beautifully', 'bec', 'became', 'bechard', 'become', 'becomes', 'began', 'begin', 'beginning', 'behind', 'behold', 'bela', 'believable', 'believe', 'believed', 'bell', 'bellucci', 'belly', 'belmondo', 'ben', 'bendingly', 'bennett', 'bergen', 'bertolucci', 'best', 'better', 'betty', 'beware', 'beyond', 'bible', 'big', 'biggest', 'billy', 'biographical', 'bipolarity', 'bit', 'bitchy', 'black', 'blah', 'blake', 'bland', 'blandly', 'blare', 'blatant', 'blew', 'blood', 'blown', 'blue', 'blush', 'boasts', 'bob', 'body', 'bohemian', 'boiling', 'bold', 'bombardments', 'bond', 'bonding', 'bonus', 'bonuses', 'boobs', 'boogeyman', 'book', 'boost', 'bop', 'bordered', 'borderlines', 'borders', 'bore', 'bored', 'boring', 'borrowed', 'boss', 'bother', 'bothersome', 'bought', 'box', 'boyfriend', 'boyle', 'brain', 'brainsucking', 'brat', 'breaking', 'breeders', 'brevity', 'brian', 'brief', 'brigand', 'bright', 'brilliance', 'brilliant', 'brilliantly', 'bring', 'brings', 'broad', 'broke', 'brooding', 'brother', 'brutal', 'buddy', 'budget', 'buffalo', 'buffet', 'build', 'builders', 'buildings', 'built', 'bullock', 'bully', 'bunch', 'burton', 'business', 'buy', 'cable', 'cailles', 'california', 'call', 'called', 'calls', 'came', 'cameo', 'camera', 'camerawork', 'camp', 'campy', 'canada', 'cancan', 'candace', 'candle', 'cannot', 'cant', 'captain', 'captured', 'captures', 'car', 'card', 'cardboard', 'cardellini', 'care', 'carol', 'carrell', 'carries', 'carry', 'cars', 'cartoon', 'cartoons', 'case', 'cases', 'cast', 'casted', 'casting', 'cat', 'catchy', 'caught', 'cause', 'ceases', 'celebration', 'celebrity', 'celluloid', 'centers', 'central', 'century', 'certain', 'certainly', 'cg', 'cgi', 'chalkboard', 'challenges', 'chance', 'change', 'changes', 'changing', 'channel', 'character', 'characterisation', 'characters', 'charisma', 'charismatic', 'charles', 'charlie', 'charm', 'charming', 'chase', 'chasing', 'cheap', 'cheaply', 'check', 'checking', 'cheek', 'cheekbones', 'cheerfull', 'cheerless', 'cheesiness', 'cheesy', 'chemistry', 'chick', 'child', 'childhood', 'children', 'childrens', 'chills', 'chilly', 'chimp', 'chodorov', 'choice', 'choices', 'choked', 'chosen', 'chow', 'christmas', 'christopher', 'church', 'cinema', 'cinematic', 'cinematographers', 'cinematography', 'circumstances', 'class', 'classic', 'classical', 'clear', 'clearly', 'clever', 'clich', 'cliche', 'clients', 'cliff', 'climax', 'close', 'closed', 'clothes', 'club', 'co', 'coach', 'coal', 'coastal', 'coaster', 'coherent', 'cold', 'cole', 'collect', 'collective', 'colored', 'colorful', 'colours', 'columbo', 'come', 'comedic', 'comedy', 'comes', 'comfortable', 'comforting', 'comical', 'coming', 'commands', 'comment', 'commentary', 'commented', 'comments', 'commercial', 'community', 'company', 'compelling', 'competent', 'complete', 'completed', 'completely', 'complex', 'complexity', 'composed', 'composition', 'comprehensible', 'compromise', 'computer', 'concentrate', 'conception', 'conceptually', 'concerning', 'concerns', 'concert', 'conclusion', 'condescends', 'confidence', 'configuration', 'confirm', 'conflict', 'confuses', 'confusing', 'connections', 'connery', 'connor', 'conrad', 'consequences', 'consider', 'considerable', 'considered', 'considering', 'considers', 'consistent', 'consolations', 'constant', 'constantine', 'constructed', 'contained', 'containing', 'contains', 'content', 'continually', 'continuation', 'continue', 'continuity', 'continuously', 'contract', 'contrast', 'contributing', 'contributory', 'contrived', 'control', 'controversy', 'convention', 'convey', 'convince', 'convincing', 'convoluted', 'cool', 'coppola', 'cords', 'core', 'corn', 'corny', 'correct', 'cost', 'costs', 'costumes', 'cotton', 'could', 'couple', 'course', 'court', 'courtroom', 'cover', 'cowardice', 'cox', 'crackles', 'crafted', 'crap', 'crash', 'crashed', 'crayon', 'crayons', 'crazy', 'create', 'created', 'creates', 'creative', 'creativity', 'creature', 'credible', 'credit', 'credits', 'crew', 'crime', 'crisp', 'critic', 'critical', 'crocdodile', 'crocs', 'cross', 'crowd', 'crowe', 'cruel', 'cruise', 'cry', 'cult', 'culture', 'curtain', 'custer', 'cute', 'cutest', 'cutie', 'cutouts', 'cuts', 'cutting', 'dads', 'damian', 'damn', 'dance', 'dancing', 'dangerous', 'dark', 'darren', 'daughter', 'daughters', 'day', 'days', 'de', 'dead', 'deadly', 'deadpan', 'deal', 'dealt', 'death', 'debated', 'debbie', 'debits', 'debut', 'decay', 'decent', 'decidely', 'decipher', 'decisions', 'dedication', 'dee', 'deep', 'deeply', 'defensemen', 'defined', 'definitely', 'delete', 'delight', 'delightful', 'delights', 'deliver', 'delivered', 'delivering', 'delivers', 'dependant', 'depending', 'depends', 'depicted', 'depicts', 'depressing', 'depth', 'derivative', 'describe', 'describes', 'desert', 'deserved', 'deserves', 'deserving', 'design', 'designed', 'designer', 'desperately', 'desperation', 'despised', 'despite', 'destroy', 'detailing', 'details', 'develop', 'development', 'developments', 'di', 'diabetic', 'dialog', 'dialogs', 'dialogue', 'diaper', 'dickens', 'difference', 'different', 'dignity', 'dimensional', 'direct', 'directed', 'directing', 'direction', 'director', 'directorial', 'directors', 'disappointed', 'disappointing', 'disappointment', 'disaster', 'disbelief', 'discomfort', 'discovering', 'discovery', 'disgrace', 'disgusting', 'dislike', 'disliked', 'disney', 'disparate', 'distant', 'distinction', 'distorted', 'distract', 'distressed', 'disturbing', 'diving', 'doctor', 'documentaries', 'documentary', 'dodge', 'dogs', 'dollars', 'dominated', 'done', 'donlevy', 'dont', 'doomed', 'dose', 'doubt', 'downs', 'dozen', 'dr', 'dracula', 'draft', 'drag', 'drago', 'drama', 'dramatic', 'drawings', 'drawn', 'dream', 'dreams', 'dreary', 'dribble', 'drift', 'drifting', 'drive', 'drooling', 'dropped', 'dry', 'due', 'duet', 'dull', 'dumb', 'dumbest', 'duper', 'duris', 'dustin', 'dvd', 'dwight', 'dysfunction', 'e', 'earlier', 'early', 'earth', 'easily', 'easy', 'eating', 'ebay', 'ebola', 'eccleston', 'ed', 'edge', 'editing', 'edition', 'educational', 'edward', 'effect', 'effective', 'effects', 'effort', 'efforts', 'egotism', 'eighth', 'eiko', 'either', 'elaborately', 'elderly', 'elegant', 'element', 'elias', 'eloquently', 'else', 'elsewhere', 'embarrassed', 'embarrassing', 'embassy', 'emerge', 'emilio', 'emily', 'emoting', 'emotion', 'emotionally', 'emotions', 'emperor', 'empowerment', 'emptiness', 'empty', 'en', 'enchanting', 'end', 'endearing', 'ended', 'ending', 'endlessly', 'ends', 'energetic', 'energy', 'engaging', 'english', 'enhanced', 'enjoy', 'enjoyable', 'enjoyed', 'enjoyment', 'enough', 'enter', 'enterprise', 'entertained', 'entertaining', 'entire', 'entirely', 'entrance', 'episode', 'episodes', 'equivalent', 'era', 'errol', 'errors', 'escalating', 'escapism', 'especially', 'essence', 'establish', 'established', 'estate', 'estevez', 'etc', 'european', 'evaluate', 'even', 'events', 'ever', 'every', 'everybody', 'everyone', 'everything', 'everywhere', 'evidently', 'evil', 'evinced', 'evokes', 'exactly', 'exaggerating', 'example', 'excellent', 'excellently', 'except', 'exceptional', 'exceptionally', 'excerpts', 'excessively', 'exchange', 'exciting', 'excruciatingly', 'excuse', 'excuses', 'executed', 'exemplars', 'existent', 'existential', 'expansive', 'expect', 'expectations', 'expected', 'expecting', 'experience', 'experiences', 'expert', 'explain', 'explains', 'explanation', 'exploit', 'explorations', 'explosion', 'expression', 'exquisite', 'extant', 'exteriors', 'extraneous', 'extraordinary', 'extremely', 'eye', 'eyes', 'f', 'fabulous', 'face', 'faces', 'facial', 'facing', 'fact', 'factory', 'failed', 'fails', 'fair', 'fairly', 'faithful', 'fall', 'falling', 'falls', 'falsely', 'falwell', 'fame', 'famed', 'family', 'famous', 'fan', 'fanciful', 'fans', 'fantastic', 'fantasy', 'far', 'farce', 'fare', 'fascinated', 'fascinating', 'fascination', 'fashioned', 'fast', 'faster', 'fat', 'father', 'faultless', 'fausa', 'faux', 'favorite', 'favourite', 'fear', 'feature', 'features', 'feel', 'feeling', 'feelings', 'feet', 'feisty', 'fellowes', 'felt', 'female', 'females', 'ferry', 'fest', 'fi', 'fields', 'fifteen', 'fifties', 'fill', 'film', 'filmed', 'filmiing', 'filmmaker', 'filmography', 'films', 'final', 'finale', 'finally', 'financial', 'find', 'finds', 'fine', 'finest', 'fingernails', 'finished', 'fire', 'first', 'fish', 'fishnet', 'fisted', 'fit', 'five', 'flag', 'flakes', 'flaming', 'flashbacks', 'flat', 'flaw', 'flawed', 'flaws', 'fleshed', 'flick', 'flicks', 'florida', 'flowed', 'flying', 'flynn', 'focus', 'fodder', 'follow', 'following', 'follows', 'foolish', 'footage', 'football', 'force', 'forced', 'forces', 'ford', 'foreign', 'foreigner', 'forever', 'forget', 'forgettable', 'forgetting', 'forgot', 'forgotten', 'form', 'format', 'former', 'fort', 'forth', 'forwarded', 'found', 'four', 'fox', 'foxx', 'frances', 'francis', 'frankly', 'free', 'freedom', 'freeman', 'french', 'fresh', 'freshness', 'friends', 'friendship', 'frightening', 'front', 'frontier', 'frost', 'frustration', 'fulci', 'fulfilling', 'full', 'fully', 'fumbling', 'fun', 'function', 'fundamental', 'funniest', 'funny', 'future', 'fx', 'g', 'gabriel', 'gadget', 'gain', 'gake', 'galley', 'gallon', 'game', 'games', 'garage', 'garbage', 'garbo', 'garfield', 'gas', 'gaudi', 'gave', 'gay', 'geek', 'gem', 'general', 'generally', 'generates', 'generic', 'genius', 'genre', 'gently', 'genuine', 'george', 'gerardo', 'gere', 'get', 'gets', 'getting', 'ghibili', 'giallo', 'gibberish', 'gifted', 'giovanni', 'girl', 'girlfriend', 'girls', 'girolamo', 'give', 'given', 'gives', 'giving', 'glad', 'glance', 'glasses', 'gloriously', 'go', 'goalies', 'god', 'goes', 'going', 'gone', 'gonna', 'good', 'gore', 'goremeister', 'gorman', 'gosh', 'got', 'goth', 'gotta', 'gotten', 'government', 'grace', 'grade', 'gradually', 'grainy', 'granted', 'graphics', 'grasp', 'grates', 'great', 'greatest', 'greatness', 'green', 'greenstreet', 'grew', 'grim', 'grimes', 'gripping', 'groove', 'gross', 'ground', 'guards', 'guess', 'guests', 'guilt', 'gung', 'guy', 'guys', 'hackneyed', 'haggis', 'hair', 'hairsplitting', 'half', 'halfway', 'ham', 'hand', 'handle', 'handled', 'handles', 'hands', 'hang', 'hankies', 'hanks', 'happen', 'happened', 'happiness', 'happy', 'hard', 'harris', 'hate', 'hated', 'hatred', 'havilland', 'hay', 'hayao', 'hayworth', 'hbo', 'head', 'heads', 'hear', 'heard', 'heart', 'hearts', 'heartwarming', 'heaven', 'heche', 'heels', 'heist', 'helen', 'hell', 'hellish', 'helms', 'help', 'helping', 'helps', 'hence', 'hendrikson', 'hernandez', 'hero', 'heroes', 'heroine', 'heroism', 'hes', 'hide', 'high', 'higher', 'highest', 'highlights', 'highly', 'hilarious', 'hill', 'hilt', 'hip', 'history', 'hitchcock', 'ho', 'hockey', 'hoffman', 'hold', 'holding', 'holds', 'holes', 'hollander', 'hollow', 'hollywood', 'home', 'homework', 'honest', 'honestly', 'hoot', 'hope', 'hopefully', 'hopeless', 'horrendous', 'horrendously', 'horrible', 'horrid', 'horrified', 'horror', 'horse', 'hosting', 'hot', 'hour', 'hours', 'house', 'houses', 'howdy', 'howe', 'howell', 'however', 'huge', 'hugo', 'human', 'humanity', 'humans', 'hummh', 'humor', 'humorous', 'humour', 'hurt', 'huston', 'hype', 'hypocrisy', 'idea', 'idealogical', 'identified', 'identifies', 'identify', 'idiot', 'idiotic', 'idyllic', 'iffy', 'im', 'imaginable', 'imagination', 'imaginative', 'imagine', 'imdb', 'imitation', 'impact', 'imperial', 'implausible', 'important', 'impossible', 'impressed', 'impression', 'impressive', 'improved', 'improvement', 'improvisation', 'impulse', 'inappropriate', 'incendiary', 'includes', 'including', 'incomprehensible', 'inconsistencies', 'incorrectness', 'incredible', 'incredibly', 'indeed', 'indescribably', 'indication', 'indictment', 'indie', 'individual', 'indoor', 'indulgent', 'industry', 'ineptly', 'inexperience', 'inexplicable', 'initially', 'innocence', 'insane', 'inside', 'insincere', 'insipid', 'insomniacs', 'inspiration', 'inspiring', 'instant', 'instead', 'instruments', 'insulin', 'insult', 'intangibles', 'integral', 'integration', 'intelligence', 'intelligent', 'intense', 'intensity', 'intentions', 'interacting', 'interest', 'interested', 'interesting', 'interim', 'interplay', 'interpretations', 'interview', 'intoning', 'intrigued', 'inventive', 'involved', 'involves', 'involving', 'iq', 'ireland', 'ironically', 'irons', 'ironside', 'irritating', 'ishioka', 'iso', 'issue', 'issues', 'istagey', 'italian', 'ive', 'jack', 'jaclyn', 'james', 'jamie', 'japanese', 'jason', 'jay', 'jealousy', 'jean', 'jennifer', 'jerky', 'jerry', 'jessica', 'jessice', 'jet', 'jim', 'jimmy', 'job', 'jobs', 'joe', 'john', 'joins', 'joke', 'jokes', 'jonah', 'jones', 'journey', 'joy', 'joyce', 'juano', 'judge', 'judging', 'judith', 'judo', 'julian', 'june', 'junk', 'junkyard', 'justice', 'jutland', 'kanaly', 'kathy', 'keep', 'keeps', 'keira', 'keith', 'kept', 'kevin', 'kid', 'kidnapped', 'kids', 'kieslowski', 'kill', 'killer', 'killing', 'killings', 'kind', 'kinda', 'kirk', 'kitchy', 'knew', 'knightley', 'knocked', 'know', 'known', 'knows', 'koteas', 'kris', 'kristoffersen', 'kudos', 'la', 'labute', 'lack', 'lacked', 'lacks', 'ladies', 'lady', 'lame', 'lance', 'landscapes', 'lane', 'lange', 'largely', 'laselva', 'lassie', 'last', 'lasting', 'latched', 'late', 'later', 'latest', 'latifa', 'latin', 'latter', 'laugh', 'laughable', 'laughed', 'laughs', 'layers', 'lazy', 'lead', 'leading', 'leap', 'learn', 'least', 'leave', 'leaves', 'leaving', 'lee', 'left', 'legal', 'legendary', 'length', 'leni', 'less', 'lesser', 'lestat', 'let', 'lets', 'letting', 'level', 'levels', 'lewis', 'lid', 'lie', 'lies', 'lieutenant', 'life', 'lifetime', 'light', 'lighting', 'like', 'liked', 'likes', 'lilli', 'lilt', 'limitations', 'limited', 'linda', 'line', 'linear', 'lines', 'lino', 'lion', 'list', 'literally', 'littered', 'little', 'lived', 'lives', 'living', 'loads', 'local', 'location', 'locations', 'loewenhielm', 'logic', 'london', 'loneliness', 'long', 'longer', 'look', 'looked', 'looking', 'looks', 'loose', 'loosely', 'lord', 'los', 'losing', 'lost', 'lot', 'lots', 'lousy', 'lovable', 'love', 'loved', 'lovely', 'loves', 'low', 'lower', 'loyalty', 'lucio', 'lucy', 'lugosi', 'lust', 'luv', 'lyrics', 'macbeth', 'machine', 'mad', 'made', 'magnificent', 'main', 'mainly', 'major', 'make', 'maker', 'makers', 'makes', 'making', 'male', 'males', 'malta', 'man', 'managed', 'manages', 'manna', 'mansonites', 'many', 'marbles', 'march', 'marine', 'marion', 'mark', 'marred', 'marriage', 'martin', 'masculine', 'masculinity', 'massive', 'master', 'masterful', 'masterpiece', 'masterpieces', 'material', 'matrix', 'matter', 'matthews', 'mature', 'may', 'maybe', 'mchattie', 'mclaglen', 'meagre', 'mean', 'meanders', 'meaning', 'meanings', 'meant', 'medical', 'mediocre', 'meld', 'melodrama', 'melville', 'member', 'members', 'memorable', 'memories', 'memorized', 'menace', 'menacing', 'mention', 'mercy', 'meredith', 'merit', 'mesmerising', 'mess', 'messages', 'meteorite', 'mexican', 'michael', 'mickey', 'microsoft', 'middle', 'might', 'mighty', 'mind', 'mindblowing', 'miner', 'mini', 'minor', 'minute', 'minutes', 'mirrormask', 'miserable', 'miserably', 'mishima', 'misplace', 'miss', 'missed', 'mistakes', 'miyazaki', 'modern', 'modest', 'mollusk', 'moment', 'moments', 'momentum', 'money', 'monica', 'monolog', 'monotonous', 'monster', 'monstrous', 'monumental', 'moral', 'morgan', 'morons', 'mostly', 'mother', 'motion', 'motivations', 'mountain', 'mouse', 'mouth', 'move', 'moved', 'movements', 'moves', 'movie', 'movies', 'moving', 'ms', 'much', 'muddled', 'muppets', 'murder', 'murdered', 'murdering', 'murky', 'music', 'musician', 'must', 'mystifying', 'n', 'naked', 'narration', 'narrative', 'nasty', 'national', 'nationalities', 'native', 'natural', 'nature', 'naughty', 'nearly', 'necklace', 'need', 'needed', 'needlessly', 'negative', 'negulesco', 'neighbour', 'neil', 'nerves', 'nervous', 'net', 'netflix', 'network', 'never', 'nevertheless', 'nevsky', 'new', 'next', 'nice', 'nicola', 'night', 'nimoy', 'nine', 'no', 'noble', 'nobody', 'noir', 'non', 'none', 'nonetheless', 'nonsense', 'nor', 'normally', 'northern', 'nostalgia', 'not', 'notable', 'notch', 'note', 'noteworthy', 'nothing', 'novella', 'number', 'numbers', 'nun', 'nuns', 'nurse', 'nut', 'nuts', 'obliged', 'obsessed', 'obvious', 'obviously', 'occasionally', 'occupied', 'occur', 'occurs', 'odd', 'offend', 'offensive', 'offer', 'offers', 'often', 'oh', 'okay', 'old', 'olde', 'older', 'ole', 'olivia', 'omit', 'one', 'ones', 'open', 'opened', 'opening', 'operas', 'opinion', 'ordeal', 'oriented', 'original', 'originality', 'origins', 'ortolani', 'oscar', 'others', 'otherwise', 'ought', 'outlandish', 'outlets', 'outside', 'outward', 'overacting', 'overall', 'overcome', 'overdue', 'overly', 'overs', 'overt', 'overwrought', 'owed', 'owls', 'owned', 'owns', 'oy', 'pace', 'paced', 'pacing', 'pack', 'paid', 'painful', 'painfully', 'paint', 'painted', 'pair', 'palance', 'pandering', 'pans', 'paolo', 'pap', 'paper', 'par', 'parents', 'park', 'parker', 'part', 'partaking', 'particular', 'particularly', 'parts', 'passed', 'passion', 'past', 'patent', 'pathetic', 'patriotism', 'paul', 'pay', 'peaking', 'pearls', 'peculiarity', 'pedestal', 'pencil', 'people', 'perabo', 'perfect', 'perfected', 'perfectly', 'performance', 'performances', 'perhaps', 'period', 'perplexing', 'person', 'personalities', 'personally', 'peter', 'pg', 'phantasm', 'phenomenal', 'philippa', 'phony', 'photograph', 'photography', 'phrase', 'physical', 'pi', 'picked', 'picture', 'pictures', 'piece', 'pieces', 'pile', 'pillow', 'pitch', 'pitiful', 'pixar', 'place', 'places', 'plain', 'plane', 'planned', 'plants', 'play', 'played', 'player', 'players', 'playing', 'plays', 'pleasant', 'pleased', 'pleaser', 'pleasing', 'pledge', 'plenty', 'plmer', 'plot', 'plug', 'plus', 'pm', 'poet', 'poetry', 'poignant', 'point', 'pointillistic', 'pointless', 'poised', 'poler', 'political', 'politically', 'politics', 'ponyo', 'poor', 'poorly', 'popcorn', 'popular', 'portrayal', 'portrayals', 'portrayed', 'portraying', 'positive', 'possible', 'possibly', 'post', 'potted', 'power', 'powerful', 'powerhouse', 'practical', 'practically', 'pray', 'precisely', 'predict', 'predictable', 'predictably', 'prejudice', 'prelude', 'premise', 'prepared', 'presence', 'presents', 'preservation', 'president', 'pretentious', 'pretext', 'pretty', 'previous', 'primal', 'primary', 'probably', 'problem', 'problems', 'proceedings', 'process', 'produce', 'produced', 'producer', 'producers', 'product', 'production', 'professionals', 'professor', 'progresses', 'promote', 'prompted', 'prone', 'propaganda', 'properly', 'proud', 'proudly', 'provided', 'provokes', 'provoking', 'ps', 'pseudo', 'psychological', 'psychotic', 'public', 'pull', 'pulling', 'pulls', 'punched', 'punches', 'punish', 'punishment', 'puppet', 'puppets', 'pure', 'purity', 'put', 'putting', 'puzzle', 'pyromaniac', 'q', 'qu', 'quaid', 'qualities', 'quality', 'question', 'questioning', 'quick', 'quicker', 'quiet', 'quinn', 'quite', 'r', 'race', 'racial', 'racism', 'radiant', 'raging', 'random', 'range', 'ranks', 'rare', 'rate', 'rated', 'rather', 'rating', 'ratings', 'raver', 'raw', 'ray', 'reactions', 'readers', 'reading', 'ready', 'real', 'realised', 'realistic', 'reality', 'realize', 'realized', 'really', 'reason', 'reasonable', 'reasons', 'receive', 'received', 'recent', 'recently', 'recommend', 'recommended', 'reconciliation', 'recover', 'recurring', 'redeemed', 'redeeming', 'reenactments', 'references', 'reflected', 'refreshing', 'regardless', 'regret', 'regrettable', 'regrettably', 'rejection', 'relate', 'related', 'relation', 'relations', 'relationship', 'relationships', 'relatively', 'relaxing', 'release', 'released', 'relief', 'relying', 'remaining', 'remake', 'remarkable', 'remember', 'reminded', 'remotely', 'removing', 'rendering', 'rendition', 'renowned', 'rent', 'repair', 'repeated', 'repeating', 'repeats', 'repertory', 'reporter', 'represents', 'require', 'rescue', 'researched', 'resounding', 'respecting', 'rest', 'restrained', 'result', 'results', 'resume', 'retarded', 'retreat', 'return', 'revealing', 'revenge', 'revere', 'reverse', 'review', 'reviewer', 'reviewers', 'reviews', 'rice', 'rickman', 'ridiculous', 'ridiculousness', 'right', 'riot', 'rips', 'rise', 'rita', 'rivalry', 'riveted', 'riz', 'road', 'robert', 'robotic', 'rochon', 'rocked', 'rocks', 'roeg', 'role', 'roles', 'roller', 'rolls', 'romantic', 'room', 'roosevelt', 'roth', 'rough', 'round', 'routine', 'row', 'rpg', 'rpger', 'rubbish', 'rubin', 'rumbles', 'run', 'running', 'ruthless', 'ryan', 'ryans', 'sabotages', 'sack', 'sacrifice', 'sad', 'said', 'sake', 'salesman', 'sam', 'sample', 'sand', 'sandra', 'sappiest', 'sarcophage', 'sat', 'satanic', 'savalas', 'savant', 'save', 'savor', 'saw', 'say', 'says', 'scale', 'scamp', 'scare', 'scared', 'scares', 'scary', 'scene', 'scenery', 'scenes', 'schilling', 'schizophrenic', 'school', 'schoolers', 'schrader', 'schultz', 'sci', 'science', 'scientist', 'score', 'scot', 'scream', 'screamy', 'screen', 'screened', 'screenplay', 'screenwriter', 'scrimm', 'script', 'scripted', 'scripting', 'scripts', 'sculpture', 'sea', 'seamless', 'seamlessly', 'sean', 'season', 'seat', 'second', 'secondary', 'secondly', 'see', 'seeing', 'seem', 'seemed', 'seems', 'seen', 'selections', 'self', 'sells', 'semi', 'senior', 'sense', 'senses', 'sensibility', 'sensitivities', 'sentiment', 'seperate', 'sequel', 'sequels', 'sequence', 'sequences', 'series', 'serious', 'seriously', 'served', 'set', 'sets', 'setting', 'settings', 'seuss', 'several', 'sex', 'shakespear', 'shakespears', 'shallow', 'shame', 'shameful', 'share', 'sharing', 'sharply', 'shatner', 'shattered', 'shed', 'sheer', 'shelf', 'shell', 'shelves', 'shenanigans', 'shepard', 'shined', 'shirley', 'shocking', 'shooting', 'short', 'shortlist', 'shot', 'shots', 'show', 'showcasing', 'showed', 'shows', 'shut', 'sibling', 'sick', 'side', 'sidelined', 'sign', 'significant', 'silent', 'silly', 'simmering', 'simplifying', 'simply', 'since', 'sincere', 'sing', 'singing', 'single', 'sinister', 'sink', 'sinking', 'sister', 'sisters', 'sit', 'sitcoms', 'site', 'sites', 'sits', 'situation', 'situations', 'skilled', 'skip', 'slackers', 'slavic', 'sleep', 'slideshow', 'slightest', 'slightly', 'slimy', 'sloppy', 'slow', 'slurs', 'smack', 'small', 'smart', 'smells', 'smile', 'smiling', 'smith', 'smoothly', 'snider', 'snow', 'soap', 'sobering', 'social', 'soldiers', 'sole', 'solid', 'solidifying', 'solving', 'someone', 'something', 'sometimes', 'somewhat', 'son', 'song', 'songs', 'soon', 'sophisticated', 'sorrentino', 'sorry', 'sort', 'soul', 'sound', 'sounded', 'sounds', 'soundtrack', 'sour', 'south', 'southern', 'space', 'spacek', 'spacey', 'span', 'speak', 'speaking', 'special', 'speed', 'spend', 'spent', 'spew', 'sphere', 'spiffy', 'splendid', 'spock', 'spoil', 'spoiled', 'spoiler', 'spoilers', 'spot', 'spy', 'squibs', 'stable', 'stage', 'stagy', 'stand', 'standout', 'stanwyck', 'star', 'starlet', 'starring', 'stars', 'start', 'started', 'starts', 'state', 'stay', 'stayed', 'stealing', 'steamboat', 'steele', 'step', 'stephen', 'stereotypes', 'stereotypically', 'steve', 'stewart', 'stick', 'still', 'stinker', 'stinks', 'stocking', 'stockings', 'stoic', 'store', 'stories', 'storm', 'story', 'storyline', 'storytelling', 'stowe', 'strange', 'stranger', 'stratus', 'straw', 'street', 'strident', 'string', 'strives', 'strokes', 'strong', 'struck', 'structure', 'struggle', 'stuart', 'student', 'students', 'studio', 'study', 'stuff', 'stunning', 'stupid', 'stupidity', 'style', 'stylized', 'sub', 'subject', 'subjects', 'sublime', 'sublimely', 'subplots', 'subtitles', 'subtle', 'subversive', 'subverting', 'succeeded', 'succeeds', 'success', 'suck', 'sucked', 'sucks', 'suffered', 'suffering', 'suggest', 'suggests', 'suited', 'sum', 'summary', 'sundays', 'super', 'superb', 'superbad', 'superbly', 'superficial', 'superlative', 'supernatural', 'supporting', 'supposed', 'supposedly', 'sure', 'surely', 'surf', 'surface', 'surprised', 'surprises', 'surprising', 'surprisingly', 'surrounding', 'surroundings', 'survivors', 'suspense', 'suspension', 'sven', 'swamp', 'sweep', 'sweet', 'switched', 'swords', 'sydney', 'sympathetic', 'syrupy', 'system', 'tacky', 'taelons', 'take', 'taken', 'takes', 'taking', 'tale', 'talent', 'talented', 'talents', 'talk', 'tanks', 'taped', 'tardis', 'task', 'taste', 'taxidermists', 'taylor', 'teacher', 'teaches', 'team', 'tear', 'tears', 'technically', 'teddy', 'tedium', 'teen', 'teenagers', 'teeth', 'telephone', 'television', 'tell', 'telly', 'temperaments', 'ten', 'tender', 'tension', 'tensions', 'terminology', 'terms', 'terrible', 'terribly', 'terrific', 'terror', 'th', 'thanks', 'theater', 'theatre', 'theatres', 'theatrical', 'theme', 'themes', 'therapy', 'thick', 'thing', 'things', 'think', 'thinking', 'thomerson', 'thoroughly', 'thorsen', 'though', 'thought', 'thoughts', 'thousand', 'thread', 'three', 'threshold', 'thrilled', 'thriller', 'thrillers', 'throughout', 'throwback', 'thrown', 'thug', 'thumper', 'thunderbirds', 'thus', 'ticker', 'tickets', 'tightly', 'time', 'timeless', 'timely', 'timers', 'times', 'timing', 'tiny', 'tired', 'title', 'titta', 'today', 'together', 'told', 'tolerable', 'tolerate', 'tom', 'tomorrow', 'tone', 'tongue', 'tonight', 'tons', 'tony', 'took', 'toons', 'top', 'tops', 'torture', 'tortured', 'total', 'totally', 'touch', 'touches', 'touching', 'tough', 'towards', 'towers', 'townsend', 'track', 'tract', 'traditional', 'traffic', 'trailer', 'train', 'tranquillity', 'transcend', 'transfers', 'translate', 'translating', 'trap', 'trash', 'trashy', 'treachery', 'treasure', 'treat', 'treatments', 'trek', 'tremendous', 'tremendously', 'tries', 'trilogy', 'trinity', 'trip', 'triumphed', 'trond', 'trooper', 'trouble', 'truck', 'true', 'truly', 'trumbull', 'trumpeter', 'truth', 'try', 'trying', 'trysts', 'tsunami', 'tuneful', 'turkey', 'turn', 'turned', 'turns', 'tv', 'twice', 'twirling', 'twist', 'twists', 'two', 'tying', 'type', 'typical', 'u', 'ue', 'ugliest', 'ugly', 'uhura', 'ultra', 'um', 'unaccompanied', 'unbearable', 'unbearably', 'unbelievable', 'uncalled', 'unconditional', 'unconvincing', 'underacting', 'underappreciated', 'underbite', 'underlines', 'underlying', 'underneath', 'underrated', 'understand', 'understanding', 'understated', 'understatement', 'understood', 'undertone', 'underwater', 'undoubtedly', 'uneasy', 'unemployed', 'unethical', 'unfaithful', 'unfolds', 'unforgettable', 'unfortunate', 'unfortunately', 'unfunny', 'unintentionally', 'uninteresting', 'union', 'unique', 'uniqueness', 'universal', 'universe', 'unless', 'unlockable', 'unmatched', 'unmitigated', 'unmoving', 'unnecessary', 'unneeded', 'unoriginal', 'unpleasant', 'unpredictability', 'unpredictable', 'unrealistic', 'unrecognizable', 'unrecommended', 'unremarkable', 'unrestrained', 'unsatisfactory', 'unwatchable', 'upa', 'uplifting', 'upper', 'ups', 'uptight', 'ursula', 'us', 'use', 'used', 'user', 'uses', 'using', 'ussr', 'usual', 'utter', 'utterly', 'v', 'valentine', 'value', 'values', 'vampire', 'vandiver', 'variation', 'vehicles', 'ventura', 'verbal', 'verbatim', 'versatile', 'version', 'versus', 'vessel', 'veteran', 'vey', 'vibe', 'victor', 'video', 'view', 'viewer', 'viewing', 'views', 'villain', 'villains', 'violence', 'violin', 'virtue', 'virus', 'vision', 'visual', 'visually', 'vitally', 'vivian', 'vivid', 'vocal', 'voice', 'volatile', 'volcano', 'vomit', 'vomited', 'voyage', 'vulcan', 'waiting', 'waitress', 'walk', 'walked', 'wall', 'want', 'wanted', 'wanting', 'wants', 'war', 'warmth', 'warn', 'warning', 'wartime', 'warts', 'washed', 'washing', 'waste', 'wasted', 'waster', 'wasting', 'watch', 'watchable', 'watched', 'watching', 'water', 'watkins', 'watson', 'wave', 'way', 'waylaid', 'wayne', 'ways', 'wb', 'weak', 'weaker', 'weariness', 'weaving', 'website', 'wedding', 'weight', 'weird', 'well', 'welsh', 'went', 'whatever', 'whatsoever', 'whenever', 'whether', 'whine', 'whiny', 'white', 'whites', 'whoever', 'whole', 'wholesome', 'wide', 'widmark', 'wife', 'wih', 'wild', 'wilkinson', 'william', 'willie', 'wily', 'win', 'wind', 'wise', 'wish', 'within', 'without', 'witticisms', 'witty', 'woa', 'women', 'wonder', 'wondered', 'wonderful', 'wonderfully', 'wong', 'wont', 'woo', 'wooden', 'word', 'words', 'work', 'worked', 'working', 'works', 'world', 'worry', 'worse', 'worst', 'worth', 'worthless', 'worthwhile', 'worthy', 'would', 'wouldnt', 'woven', 'wow', 'wrap', 'write', 'writer', 'writers', 'writing', 'written', 'wrong', 'wrote', 'x', 'yardley', 'yawn', 'yeah', 'year', 'years', 'yelps', 'yes', 'yet', 'young', 'younger', 'youthful', 'youtube', 'yun', 'z', 'zillion', 'zombie', 'zombiez']\n"
          ],
          "name": "stdout"
        },
        {
          "output_type": "stream",
          "text": [
            "100%|██████████| 746/746 [00:00<00:00, 1102.62it/s]"
          ],
          "name": "stderr"
        },
        {
          "output_type": "stream",
          "text": [
            "[[0. 0. 0. ... 0. 0. 0.]\n",
            " [0. 0. 0. ... 0. 0. 0.]\n",
            " [0. 0. 0. ... 0. 0. 0.]\n",
            " ...\n",
            " [0. 0. 0. ... 0. 0. 0.]\n",
            " [0. 0. 0. ... 0. 0. 0.]\n",
            " [0. 0. 0. ... 0. 0. 0.]]\n"
          ],
          "name": "stdout"
        },
        {
          "output_type": "stream",
          "text": [
            "\n"
          ],
          "name": "stderr"
        }
      ]
    },
    {
      "cell_type": "code",
      "metadata": {
        "colab": {
          "base_uri": "https://localhost:8080/"
        },
        "id": "EDmJvufnDarj",
        "outputId": "b70bf6f5-8c53-4fbe-8ec3-14306c1f73ca"
      },
      "source": [
        "matrix_a=transform(corpus, vocab)\n",
        "#print(matrix_a[0])\n",
        "print(\"Shape of TF IDF Vector : \"+str(transform(corpus, vocab).shape))\n",
        "print(matrix_a)"
      ],
      "execution_count": null,
      "outputs": [
        {
          "output_type": "stream",
          "text": [
            "100%|██████████| 746/746 [00:00<00:00, 1087.92it/s]\n",
            "100%|██████████| 746/746 [00:00<00:00, 1065.16it/s]\n"
          ],
          "name": "stderr"
        },
        {
          "output_type": "stream",
          "text": [
            "Shape of TF IDF Vector : (746, 2897)\n",
            "  (0, 53)\t0.3590923534340836\n",
            "  (0, 689)\t0.3590923534340836\n",
            "  (0, 721)\t0.3590923534340836\n",
            "  (0, 1549)\t0.14672110289208123\n",
            "  (0, 1655)\t0.08854824646102896\n",
            "  (0, 1657)\t0.26182344713612815\n",
            "  (0, 2294)\t0.2534550984323015\n",
            "  (0, 2888)\t0.27172110289208123\n",
            "  (1, 149)\t0.24152986923740552\n",
            "  (1, 375)\t0.153486348182044\n",
            "  (1, 969)\t0.28574542575652084\n",
            "  (1, 1136)\t0.22529342082871245\n",
            "  (1, 1515)\t0.25229764846052294\n",
            "  (1, 1681)\t0.3191932030525187\n",
            "  (1, 1717)\t0.0843106083517591\n",
            "  (1, 2453)\t0.24152986923740552\n",
            "  (1, 2773)\t0.28574542575652084\n",
            "  (2, 20)\t0.06745653791821944\n",
            "  (2, 64)\t0.10097349042280757\n",
            "  (2, 89)\t0.13535309641098356\n",
            "  (2, 124)\t0.15119678039329834\n",
            "  (2, 145)\t0.15119678039329834\n",
            "  (2, 202)\t0.13535309641098356\n",
            "  (2, 237)\t0.10097349042280757\n",
            "  (2, 321)\t0.09638663906918124\n",
            "  :\t:\n",
            "  (741, 269)\t0.3243826908778152\n",
            "  (741, 430)\t0.41039126106752405\n",
            "  (741, 1100)\t0.24665868454206155\n",
            "  (741, 1358)\t0.41039126106752405\n",
            "  (741, 1426)\t0.36738697597266967\n",
            "  (741, 2478)\t0.26753411821038126\n",
            "  (741, 2794)\t0.2310666174813375\n",
            "  (742, 942)\t0.09005631038620154\n",
            "  (742, 1515)\t0.2838348545180883\n",
            "  (742, 1941)\t0.27172110289208123\n",
            "  (742, 2036)\t0.3590923534340836\n",
            "  (742, 2180)\t0.19924815331497997\n",
            "  (742, 2683)\t0.2838348545180883\n",
            "  (742, 2754)\t0.3590923534340836\n",
            "  (742, 2855)\t0.18222068493773136\n",
            "  (743, 771)\t1.1978087863765032\n",
            "  (743, 2853)\t0.9592481590166719\n",
            "  (744, 176)\t0.5622754002332342\n",
            "  (744, 845)\t1.4363694137363343\n",
            "  (745, 1234)\t0.3784464726907844\n",
            "  (745, 1309)\t0.3784464726907844\n",
            "  (745, 1313)\t0.3784464726907844\n",
            "  (745, 1634)\t0.3622948038561083\n",
            "  (745, 1753)\t0.15228290585859586\n",
            "  (745, 2787)\t0.26957772039489375\n"
          ],
          "name": "stdout"
        }
      ]
    },
    {
      "cell_type": "code",
      "metadata": {
        "colab": {
          "base_uri": "https://localhost:8080/"
        },
        "id": "eJMFsgaTAiKK",
        "outputId": "943c5484-15f5-4e6e-99fc-e1315698d9d1"
      },
      "source": [
        "print(matrix_a[0].toarray())"
      ],
      "execution_count": null,
      "outputs": [
        {
          "output_type": "stream",
          "text": [
            "[[0. 0. 0. ... 0. 0. 0.]]\n"
          ],
          "name": "stdout"
        }
      ]
    },
    {
      "cell_type": "code",
      "metadata": {
        "colab": {
          "base_uri": "https://localhost:8080/"
        },
        "id": "UurAf02ZLwWD",
        "outputId": "75b11e67-55c3-4290-b2b2-b0465c25462f"
      },
      "source": [
        "matrix_a"
      ],
      "execution_count": null,
      "outputs": [
        {
          "output_type": "execute_result",
          "data": {
            "text/plain": [
              "<746x2897 sparse matrix of type '<class 'numpy.float64'>'\n",
              "\twith 6964 stored elements in Compressed Sparse Row format>"
            ]
          },
          "metadata": {
            "tags": []
          },
          "execution_count": 89
        }
      ]
    },
    {
      "cell_type": "markdown",
      "metadata": {
        "id": "9_-7IRZTNRQR"
      },
      "source": [
        "##Compare to sklearn data\n"
      ]
    },
    {
      "cell_type": "code",
      "metadata": {
        "colab": {
          "base_uri": "https://localhost:8080/"
        },
        "id": "4bUGanH76A0w",
        "outputId": "3ed91a40-d2cb-4f1e-cb5a-1f073277a18b"
      },
      "source": [
        "from sklearn.feature_extraction.text import TfidfVectorizer #this is instruction\n",
        "vec = TfidfVectorizer()\n",
        "vec.fit(corpus)\n",
        "skl_output = vec.transform(corpus)\n",
        "print(vec.idf_)\n",
        "#print(skl_output.toarray())"
      ],
      "execution_count": null,
      "outputs": [
        {
          "output_type": "stream",
          "text": [
            "[6.922918   6.922918   6.22977082 ... 6.922918   6.5174529  6.922918  ]\n"
          ],
          "name": "stdout"
        }
      ]
    },
    {
      "cell_type": "code",
      "metadata": {
        "colab": {
          "base_uri": "https://localhost:8080/"
        },
        "id": "WeuMLTQ_OAbQ",
        "outputId": "03857510-a08f-49b7-9a0a-2d6d8915aef9"
      },
      "source": [
        "print(skl_output[0])"
      ],
      "execution_count": null,
      "outputs": [
        {
          "output_type": "stream",
          "text": [
            "  (0, 2878)\t0.35781145622317734\n",
            "  (0, 2287)\t0.3377679916467555\n",
            "  (0, 1653)\t0.35781145622317734\n",
            "  (0, 1651)\t0.16192317905848022\n",
            "  (0, 1545)\t0.30566026894803877\n",
            "  (0, 720)\t0.4123943870778812\n",
            "  (0, 688)\t0.4123943870778812\n",
            "  (0, 53)\t0.4123943870778812\n"
          ],
          "name": "stdout"
        }
      ]
    },
    {
      "cell_type": "code",
      "metadata": {
        "colab": {
          "base_uri": "https://localhost:8080/"
        },
        "id": "kAVRmsyEAeDQ",
        "outputId": "b52e0a40-e77d-40c6-ec78-28eff7bbf925"
      },
      "source": [
        "print(skl_output[0].toarray())"
      ],
      "execution_count": null,
      "outputs": [
        {
          "output_type": "stream",
          "text": [
            "[[0. 0. 0. ... 0. 0. 0.]]\n"
          ],
          "name": "stdout"
        }
      ]
    },
    {
      "cell_type": "code",
      "metadata": {
        "colab": {
          "base_uri": "https://localhost:8080/"
        },
        "id": "FlLK-usvc6w0",
        "outputId": "304756ca-e552-44a0-8829-ac0664de94cd"
      },
      "source": [
        "print(vec.get_feature_names())"
      ],
      "execution_count": null,
      "outputs": [
        {
          "output_type": "stream",
          "text": [
            "['aailiyah', 'abandoned', 'ability', 'abroad', 'absolutely', 'abstruse', 'abysmal', 'academy', 'accents', 'accessible', 'acclaimed', 'accolades', 'accurate', 'accurately', 'accused', 'achievement', 'achille', 'ackerman', 'act', 'acted', 'acting', 'action', 'actions', 'actor', 'actors', 'actress', 'actresses', 'actually', 'adams', 'adaptation', 'add', 'added', 'addition', 'admins', 'admiration', 'admitted', 'adorable', 'adrift', 'adventure', 'advise', 'aerial', 'aesthetically', 'affected', 'affleck', 'afraid', 'africa', 'afternoon', 'age', 'aged', 'ages', 'ago', 'agree', 'agreed', 'aimless', 'air', 'aired', 'akasha', 'akin', 'alert', 'alexander', 'alike', 'allison', 'allow', 'allowing', 'almost', 'along', 'alongside', 'already', 'also', 'although', 'always', 'amateurish', 'amaze', 'amazed', 'amazing', 'amazingly', 'america', 'american', 'americans', 'among', 'amount', 'amusing', 'amust', 'anatomist', 'angel', 'angela', 'angeles', 'angelina', 'angle', 'angles', 'angry', 'anguish', 'angus', 'animals', 'animated', 'animation', 'anita', 'ann', 'anne', 'anniversary', 'annoying', 'another', 'anthony', 'antithesis', 'anyone', 'anything', 'anyway', 'apart', 'appalling', 'appealing', 'appearance', 'appears', 'applauded', 'applause', 'appreciate', 'appropriate', 'apt', 'argued', 'armageddon', 'armand', 'around', 'array', 'art', 'articulated', 'artiness', 'artist', 'artistic', 'artless', 'arts', 'aside', 'ask', 'asleep', 'aspect', 'aspects', 'ass', 'assante', 'assaulted', 'assistant', 'astonishingly', 'astronaut', 'atmosphere', 'atrocious', 'atrocity', 'attempt', 'attempted', 'attempting', 'attempts', 'attention', 'attractive', 'audience', 'audio', 'aurv', 'austen', 'austere', 'author', 'average', 'aversion', 'avoid', 'avoided', 'award', 'awarded', 'awards', 'away', 'awesome', 'awful', 'awkwardly', 'aye', 'baaaaaad', 'babbling', 'babie', 'baby', 'babysitting', 'back', 'backdrop', 'backed', 'bad', 'badly', 'bag', 'bailey', 'bakery', 'balance', 'balanced', 'ball', 'ballet', 'balls', 'band', 'barcelona', 'barely', 'barking', 'barney', 'barren', 'based', 'basic', 'basically', 'bat', 'bates', 'baxendale', 'bear', 'beautiful', 'beautifully', 'bec', 'became', 'bechard', 'become', 'becomes', 'began', 'begin', 'beginning', 'behind', 'behold', 'bela', 'believable', 'believe', 'believed', 'bell', 'bellucci', 'belly', 'belmondo', 'ben', 'bendingly', 'bennett', 'bergen', 'bertolucci', 'best', 'better', 'betty', 'beware', 'beyond', 'bible', 'big', 'biggest', 'billy', 'biographical', 'bipolarity', 'bit', 'bitchy', 'black', 'blah', 'blake', 'bland', 'blandly', 'blare', 'blatant', 'blew', 'blood', 'blown', 'blue', 'blush', 'boasts', 'bob', 'body', 'bohemian', 'boiling', 'bold', 'bombardments', 'bond', 'bonding', 'bonus', 'bonuses', 'boobs', 'boogeyman', 'book', 'boost', 'bop', 'bordered', 'borderlines', 'borders', 'bore', 'bored', 'boring', 'borrowed', 'boss', 'bother', 'bothersome', 'bought', 'box', 'boyfriend', 'boyle', 'brain', 'brainsucking', 'brat', 'breaking', 'breeders', 'brevity', 'brian', 'brief', 'brigand', 'bright', 'brilliance', 'brilliant', 'brilliantly', 'bring', 'brings', 'broad', 'broke', 'brooding', 'brother', 'brutal', 'buddy', 'budget', 'buffalo', 'buffet', 'build', 'builders', 'buildings', 'built', 'bullock', 'bully', 'bunch', 'burton', 'business', 'buy', 'cable', 'cailles', 'california', 'call', 'called', 'calls', 'came', 'cameo', 'camera', 'camerawork', 'camp', 'campy', 'canada', 'cancan', 'candace', 'candle', 'cannot', 'cant', 'captain', 'captured', 'captures', 'car', 'card', 'cardboard', 'cardellini', 'care', 'carol', 'carrell', 'carries', 'carry', 'cars', 'cartoon', 'cartoons', 'case', 'cases', 'cast', 'casted', 'casting', 'cat', 'catchy', 'caught', 'cause', 'ceases', 'celebration', 'celebrity', 'celluloid', 'centers', 'central', 'century', 'certain', 'certainly', 'cg', 'cgi', 'chalkboard', 'challenges', 'chance', 'change', 'changes', 'changing', 'channel', 'character', 'characterisation', 'characters', 'charisma', 'charismatic', 'charles', 'charlie', 'charm', 'charming', 'chase', 'chasing', 'cheap', 'cheaply', 'check', 'checking', 'cheek', 'cheekbones', 'cheerfull', 'cheerless', 'cheesiness', 'cheesy', 'chemistry', 'chick', 'child', 'childhood', 'children', 'childrens', 'chills', 'chilly', 'chimp', 'chodorov', 'choice', 'choices', 'choked', 'chosen', 'chow', 'christmas', 'christopher', 'church', 'cinema', 'cinematic', 'cinematographers', 'cinematography', 'circumstances', 'class', 'classic', 'classical', 'clear', 'clearly', 'clever', 'clich', 'cliche', 'clients', 'cliff', 'climax', 'close', 'closed', 'clothes', 'club', 'co', 'coach', 'coal', 'coastal', 'coaster', 'coherent', 'cold', 'cole', 'collect', 'collective', 'colored', 'colorful', 'colours', 'columbo', 'come', 'comedic', 'comedy', 'comes', 'comfortable', 'comforting', 'comical', 'coming', 'commands', 'comment', 'commentary', 'commented', 'comments', 'commercial', 'community', 'company', 'compelling', 'competent', 'complete', 'completed', 'completely', 'complex', 'complexity', 'composed', 'composition', 'comprehensible', 'compromise', 'computer', 'concentrate', 'conception', 'conceptually', 'concerning', 'concerns', 'concert', 'conclusion', 'condescends', 'confidence', 'configuration', 'confirm', 'conflict', 'confuses', 'confusing', 'connections', 'connery', 'connor', 'conrad', 'consequences', 'consider', 'considerable', 'considered', 'considering', 'considers', 'consistent', 'consolations', 'constant', 'constantine', 'constructed', 'contained', 'containing', 'contains', 'content', 'continually', 'continuation', 'continue', 'continuity', 'continuously', 'contract', 'contrast', 'contributing', 'contributory', 'contrived', 'control', 'controversy', 'convention', 'convey', 'convince', 'convincing', 'convoluted', 'cool', 'coppola', 'cords', 'core', 'corn', 'corny', 'correct', 'cost', 'costs', 'costumes', 'cotton', 'could', 'couple', 'course', 'court', 'courtroom', 'cover', 'cowardice', 'cox', 'crackles', 'crafted', 'crap', 'crash', 'crashed', 'crayon', 'crayons', 'crazy', 'create', 'created', 'creates', 'creative', 'creativity', 'creature', 'credible', 'credit', 'credits', 'crew', 'crime', 'crisp', 'critic', 'critical', 'crocdodile', 'crocs', 'cross', 'crowd', 'crowe', 'cruel', 'cruise', 'cry', 'cult', 'culture', 'curtain', 'custer', 'cute', 'cutest', 'cutie', 'cutouts', 'cuts', 'cutting', 'dads', 'damian', 'damn', 'dance', 'dancing', 'dangerous', 'dark', 'darren', 'daughter', 'daughters', 'day', 'days', 'de', 'dead', 'deadly', 'deadpan', 'deal', 'dealt', 'death', 'debated', 'debbie', 'debits', 'debut', 'decay', 'decent', 'decidely', 'decipher', 'decisions', 'dedication', 'dee', 'deep', 'deeply', 'defensemen', 'defined', 'definitely', 'delete', 'delight', 'delightful', 'delights', 'deliver', 'delivered', 'delivering', 'delivers', 'dependant', 'depending', 'depends', 'depicted', 'depicts', 'depressing', 'depth', 'derivative', 'describe', 'describes', 'desert', 'deserved', 'deserves', 'deserving', 'design', 'designed', 'designer', 'desperately', 'desperation', 'despised', 'despite', 'destroy', 'detailing', 'details', 'develop', 'development', 'developments', 'di', 'diabetic', 'dialog', 'dialogs', 'dialogue', 'diaper', 'dickens', 'difference', 'different', 'dignity', 'dimensional', 'direct', 'directed', 'directing', 'direction', 'director', 'directorial', 'directors', 'disappointed', 'disappointing', 'disappointment', 'disaster', 'disbelief', 'discomfort', 'discovering', 'discovery', 'disgrace', 'disgusting', 'dislike', 'disliked', 'disney', 'disparate', 'distant', 'distinction', 'distorted', 'distract', 'distressed', 'disturbing', 'diving', 'doctor', 'documentaries', 'documentary', 'dodge', 'dogs', 'dollars', 'dominated', 'done', 'donlevy', 'dont', 'doomed', 'dose', 'doubt', 'downs', 'dozen', 'dr', 'dracula', 'draft', 'drag', 'drago', 'drama', 'dramatic', 'drawings', 'drawn', 'dream', 'dreams', 'dreary', 'dribble', 'drift', 'drifting', 'drive', 'drooling', 'dropped', 'dry', 'due', 'duet', 'dull', 'dumb', 'dumbest', 'duper', 'duris', 'dustin', 'dvd', 'dwight', 'dysfunction', 'earlier', 'early', 'earth', 'easily', 'easy', 'eating', 'ebay', 'ebola', 'eccleston', 'ed', 'edge', 'editing', 'edition', 'educational', 'edward', 'effect', 'effective', 'effects', 'effort', 'efforts', 'egotism', 'eighth', 'eiko', 'either', 'elaborately', 'elderly', 'elegant', 'element', 'elias', 'eloquently', 'else', 'elsewhere', 'embarrassed', 'embarrassing', 'embassy', 'emerge', 'emilio', 'emily', 'emoting', 'emotion', 'emotionally', 'emotions', 'emperor', 'empowerment', 'emptiness', 'empty', 'en', 'enchanting', 'end', 'endearing', 'ended', 'ending', 'endlessly', 'ends', 'energetic', 'energy', 'engaging', 'english', 'enhanced', 'enjoy', 'enjoyable', 'enjoyed', 'enjoyment', 'enough', 'enter', 'enterprise', 'entertained', 'entertaining', 'entire', 'entirely', 'entrance', 'episode', 'episodes', 'equivalent', 'era', 'errol', 'errors', 'escalating', 'escapism', 'especially', 'essence', 'establish', 'established', 'estate', 'estevez', 'etc', 'european', 'evaluate', 'even', 'events', 'ever', 'every', 'everybody', 'everyone', 'everything', 'everywhere', 'evidently', 'evil', 'evinced', 'evokes', 'exactly', 'exaggerating', 'example', 'excellent', 'excellently', 'except', 'exceptional', 'exceptionally', 'excerpts', 'excessively', 'exchange', 'exciting', 'excruciatingly', 'excuse', 'excuses', 'executed', 'exemplars', 'existent', 'existential', 'expansive', 'expect', 'expectations', 'expected', 'expecting', 'experience', 'experiences', 'expert', 'explain', 'explains', 'explanation', 'exploit', 'explorations', 'explosion', 'expression', 'exquisite', 'extant', 'exteriors', 'extraneous', 'extraordinary', 'extremely', 'eye', 'eyes', 'fabulous', 'face', 'faces', 'facial', 'facing', 'fact', 'factory', 'failed', 'fails', 'fair', 'fairly', 'faithful', 'fall', 'falling', 'falls', 'falsely', 'falwell', 'fame', 'famed', 'family', 'famous', 'fan', 'fanciful', 'fans', 'fantastic', 'fantasy', 'far', 'farce', 'fare', 'fascinated', 'fascinating', 'fascination', 'fashioned', 'fast', 'faster', 'fat', 'father', 'faultless', 'fausa', 'faux', 'favorite', 'favourite', 'fear', 'feature', 'features', 'feel', 'feeling', 'feelings', 'feet', 'feisty', 'fellowes', 'felt', 'female', 'females', 'ferry', 'fest', 'fi', 'fields', 'fifteen', 'fifties', 'fill', 'film', 'filmed', 'filmiing', 'filmmaker', 'filmography', 'films', 'final', 'finale', 'finally', 'financial', 'find', 'finds', 'fine', 'finest', 'fingernails', 'finished', 'fire', 'first', 'fish', 'fishnet', 'fisted', 'fit', 'five', 'flag', 'flakes', 'flaming', 'flashbacks', 'flat', 'flaw', 'flawed', 'flaws', 'fleshed', 'flick', 'flicks', 'florida', 'flowed', 'flying', 'flynn', 'focus', 'fodder', 'follow', 'following', 'follows', 'foolish', 'footage', 'football', 'force', 'forced', 'forces', 'ford', 'foreign', 'foreigner', 'forever', 'forget', 'forgettable', 'forgetting', 'forgot', 'forgotten', 'form', 'format', 'former', 'fort', 'forth', 'forwarded', 'found', 'four', 'fox', 'foxx', 'frances', 'francis', 'frankly', 'free', 'freedom', 'freeman', 'french', 'fresh', 'freshness', 'friends', 'friendship', 'frightening', 'front', 'frontier', 'frost', 'frustration', 'fulci', 'fulfilling', 'full', 'fully', 'fumbling', 'fun', 'function', 'fundamental', 'funniest', 'funny', 'future', 'fx', 'gabriel', 'gadget', 'gain', 'gake', 'galley', 'gallon', 'game', 'games', 'garage', 'garbage', 'garbo', 'garfield', 'gas', 'gaudi', 'gave', 'gay', 'geek', 'gem', 'general', 'generally', 'generates', 'generic', 'genius', 'genre', 'gently', 'genuine', 'george', 'gerardo', 'gere', 'get', 'gets', 'getting', 'ghibili', 'giallo', 'gibberish', 'gifted', 'giovanni', 'girl', 'girlfriend', 'girls', 'girolamo', 'give', 'given', 'gives', 'giving', 'glad', 'glance', 'glasses', 'gloriously', 'go', 'goalies', 'god', 'goes', 'going', 'gone', 'gonna', 'good', 'gore', 'goremeister', 'gorman', 'gosh', 'got', 'goth', 'gotta', 'gotten', 'government', 'grace', 'grade', 'gradually', 'grainy', 'granted', 'graphics', 'grasp', 'grates', 'great', 'greatest', 'greatness', 'green', 'greenstreet', 'grew', 'grim', 'grimes', 'gripping', 'groove', 'gross', 'ground', 'guards', 'guess', 'guests', 'guilt', 'gung', 'guy', 'guys', 'hackneyed', 'haggis', 'hair', 'hairsplitting', 'half', 'halfway', 'ham', 'hand', 'handle', 'handled', 'handles', 'hands', 'hang', 'hankies', 'hanks', 'happen', 'happened', 'happiness', 'happy', 'hard', 'harris', 'hate', 'hated', 'hatred', 'havilland', 'hay', 'hayao', 'hayworth', 'hbo', 'head', 'heads', 'hear', 'heard', 'heart', 'hearts', 'heartwarming', 'heaven', 'heche', 'heels', 'heist', 'helen', 'hell', 'hellish', 'helms', 'help', 'helping', 'helps', 'hence', 'hendrikson', 'hernandez', 'hero', 'heroes', 'heroine', 'heroism', 'hes', 'hide', 'high', 'higher', 'highest', 'highlights', 'highly', 'hilarious', 'hill', 'hilt', 'hip', 'history', 'hitchcock', 'ho', 'hockey', 'hoffman', 'hold', 'holding', 'holds', 'holes', 'hollander', 'hollow', 'hollywood', 'home', 'homework', 'honest', 'honestly', 'hoot', 'hope', 'hopefully', 'hopeless', 'horrendous', 'horrendously', 'horrible', 'horrid', 'horrified', 'horror', 'horse', 'hosting', 'hot', 'hour', 'hours', 'house', 'houses', 'howdy', 'howe', 'howell', 'however', 'huge', 'hugo', 'human', 'humanity', 'humans', 'hummh', 'humor', 'humorous', 'humour', 'hurt', 'huston', 'hype', 'hypocrisy', 'idea', 'idealogical', 'identified', 'identifies', 'identify', 'idiot', 'idiotic', 'idyllic', 'iffy', 'im', 'imaginable', 'imagination', 'imaginative', 'imagine', 'imdb', 'imitation', 'impact', 'imperial', 'implausible', 'important', 'impossible', 'impressed', 'impression', 'impressive', 'improved', 'improvement', 'improvisation', 'impulse', 'inappropriate', 'incendiary', 'includes', 'including', 'incomprehensible', 'inconsistencies', 'incorrectness', 'incredible', 'incredibly', 'indeed', 'indescribably', 'indication', 'indictment', 'indie', 'individual', 'indoor', 'indulgent', 'industry', 'ineptly', 'inexperience', 'inexplicable', 'initially', 'innocence', 'insane', 'inside', 'insincere', 'insipid', 'insomniacs', 'inspiration', 'inspiring', 'instant', 'instead', 'instruments', 'insulin', 'insult', 'intangibles', 'integral', 'integration', 'intelligence', 'intelligent', 'intense', 'intensity', 'intentions', 'interacting', 'interest', 'interested', 'interesting', 'interim', 'interplay', 'interpretations', 'interview', 'intoning', 'intrigued', 'inventive', 'involved', 'involves', 'involving', 'iq', 'ireland', 'ironically', 'irons', 'ironside', 'irritating', 'ishioka', 'iso', 'issue', 'issues', 'istagey', 'italian', 'ive', 'jack', 'jaclyn', 'james', 'jamie', 'japanese', 'jason', 'jay', 'jealousy', 'jean', 'jennifer', 'jerky', 'jerry', 'jessica', 'jessice', 'jet', 'jim', 'jimmy', 'job', 'jobs', 'joe', 'john', 'joins', 'joke', 'jokes', 'jonah', 'jones', 'journey', 'joy', 'joyce', 'juano', 'judge', 'judging', 'judith', 'judo', 'julian', 'june', 'junk', 'junkyard', 'justice', 'jutland', 'kanaly', 'kathy', 'keep', 'keeps', 'keira', 'keith', 'kept', 'kevin', 'kid', 'kidnapped', 'kids', 'kieslowski', 'kill', 'killer', 'killing', 'killings', 'kind', 'kinda', 'kirk', 'kitchy', 'knew', 'knightley', 'knocked', 'know', 'known', 'knows', 'koteas', 'kris', 'kristoffersen', 'kudos', 'la', 'labute', 'lack', 'lacked', 'lacks', 'ladies', 'lady', 'lame', 'lance', 'landscapes', 'lane', 'lange', 'largely', 'laselva', 'lassie', 'last', 'lasting', 'latched', 'late', 'later', 'latest', 'latifa', 'latin', 'latter', 'laugh', 'laughable', 'laughed', 'laughs', 'layers', 'lazy', 'lead', 'leading', 'leap', 'learn', 'least', 'leave', 'leaves', 'leaving', 'lee', 'left', 'legal', 'legendary', 'length', 'leni', 'less', 'lesser', 'lestat', 'let', 'lets', 'letting', 'level', 'levels', 'lewis', 'lid', 'lie', 'lies', 'lieutenant', 'life', 'lifetime', 'light', 'lighting', 'like', 'liked', 'likes', 'lilli', 'lilt', 'limitations', 'limited', 'linda', 'line', 'linear', 'lines', 'lino', 'lion', 'list', 'literally', 'littered', 'little', 'lived', 'lives', 'living', 'loads', 'local', 'location', 'locations', 'loewenhielm', 'logic', 'london', 'loneliness', 'long', 'longer', 'look', 'looked', 'looking', 'looks', 'loose', 'loosely', 'lord', 'los', 'losing', 'lost', 'lot', 'lots', 'lousy', 'lovable', 'love', 'loved', 'lovely', 'loves', 'low', 'lower', 'loyalty', 'lucio', 'lucy', 'lugosi', 'lust', 'luv', 'lyrics', 'macbeth', 'machine', 'mad', 'made', 'magnificent', 'main', 'mainly', 'major', 'make', 'maker', 'makers', 'makes', 'making', 'male', 'males', 'malta', 'man', 'managed', 'manages', 'manna', 'mansonites', 'many', 'marbles', 'march', 'marine', 'marion', 'mark', 'marred', 'marriage', 'martin', 'masculine', 'masculinity', 'massive', 'master', 'masterful', 'masterpiece', 'masterpieces', 'material', 'matrix', 'matter', 'matthews', 'mature', 'may', 'maybe', 'mchattie', 'mclaglen', 'meagre', 'mean', 'meanders', 'meaning', 'meanings', 'meant', 'medical', 'mediocre', 'meld', 'melodrama', 'melville', 'member', 'members', 'memorable', 'memories', 'memorized', 'menace', 'menacing', 'mention', 'mercy', 'meredith', 'merit', 'mesmerising', 'mess', 'messages', 'meteorite', 'mexican', 'michael', 'mickey', 'microsoft', 'middle', 'might', 'mighty', 'mind', 'mindblowing', 'miner', 'mini', 'minor', 'minute', 'minutes', 'mirrormask', 'miserable', 'miserably', 'mishima', 'misplace', 'miss', 'missed', 'mistakes', 'miyazaki', 'modern', 'modest', 'mollusk', 'moment', 'moments', 'momentum', 'money', 'monica', 'monolog', 'monotonous', 'monster', 'monstrous', 'monumental', 'moral', 'morgan', 'morons', 'mostly', 'mother', 'motion', 'motivations', 'mountain', 'mouse', 'mouth', 'move', 'moved', 'movements', 'moves', 'movie', 'movies', 'moving', 'ms', 'much', 'muddled', 'muppets', 'murder', 'murdered', 'murdering', 'murky', 'music', 'musician', 'must', 'mystifying', 'naked', 'narration', 'narrative', 'nasty', 'national', 'nationalities', 'native', 'natural', 'nature', 'naughty', 'nearly', 'necklace', 'need', 'needed', 'needlessly', 'negative', 'negulesco', 'neighbour', 'neil', 'nerves', 'nervous', 'net', 'netflix', 'network', 'never', 'nevertheless', 'nevsky', 'new', 'next', 'nice', 'nicola', 'night', 'nimoy', 'nine', 'no', 'noble', 'nobody', 'noir', 'non', 'none', 'nonetheless', 'nonsense', 'nor', 'normally', 'northern', 'nostalgia', 'not', 'notable', 'notch', 'note', 'noteworthy', 'nothing', 'novella', 'number', 'numbers', 'nun', 'nuns', 'nurse', 'nut', 'nuts', 'obliged', 'obsessed', 'obvious', 'obviously', 'occasionally', 'occupied', 'occur', 'occurs', 'odd', 'offend', 'offensive', 'offer', 'offers', 'often', 'oh', 'okay', 'old', 'olde', 'older', 'ole', 'olivia', 'omit', 'one', 'ones', 'open', 'opened', 'opening', 'operas', 'opinion', 'ordeal', 'oriented', 'original', 'originality', 'origins', 'ortolani', 'oscar', 'others', 'otherwise', 'ought', 'outlandish', 'outlets', 'outside', 'outward', 'overacting', 'overall', 'overcome', 'overdue', 'overly', 'overs', 'overt', 'overwrought', 'owed', 'owls', 'owned', 'owns', 'oy', 'pace', 'paced', 'pacing', 'pack', 'paid', 'painful', 'painfully', 'paint', 'painted', 'pair', 'palance', 'pandering', 'pans', 'paolo', 'pap', 'paper', 'par', 'parents', 'park', 'parker', 'part', 'partaking', 'particular', 'particularly', 'parts', 'passed', 'passion', 'past', 'patent', 'pathetic', 'patriotism', 'paul', 'pay', 'peaking', 'pearls', 'peculiarity', 'pedestal', 'pencil', 'people', 'perabo', 'perfect', 'perfected', 'perfectly', 'performance', 'performances', 'perhaps', 'period', 'perplexing', 'person', 'personalities', 'personally', 'peter', 'pg', 'phantasm', 'phenomenal', 'philippa', 'phony', 'photograph', 'photography', 'phrase', 'physical', 'pi', 'picked', 'picture', 'pictures', 'piece', 'pieces', 'pile', 'pillow', 'pitch', 'pitiful', 'pixar', 'place', 'places', 'plain', 'plane', 'planned', 'plants', 'play', 'played', 'player', 'players', 'playing', 'plays', 'pleasant', 'pleased', 'pleaser', 'pleasing', 'pledge', 'plenty', 'plmer', 'plot', 'plug', 'plus', 'pm', 'poet', 'poetry', 'poignant', 'point', 'pointillistic', 'pointless', 'poised', 'poler', 'political', 'politically', 'politics', 'ponyo', 'poor', 'poorly', 'popcorn', 'popular', 'portrayal', 'portrayals', 'portrayed', 'portraying', 'positive', 'possible', 'possibly', 'post', 'potted', 'power', 'powerful', 'powerhouse', 'practical', 'practically', 'pray', 'precisely', 'predict', 'predictable', 'predictably', 'prejudice', 'prelude', 'premise', 'prepared', 'presence', 'presents', 'preservation', 'president', 'pretentious', 'pretext', 'pretty', 'previous', 'primal', 'primary', 'probably', 'problem', 'problems', 'proceedings', 'process', 'produce', 'produced', 'producer', 'producers', 'product', 'production', 'professionals', 'professor', 'progresses', 'promote', 'prompted', 'prone', 'propaganda', 'properly', 'proud', 'proudly', 'provided', 'provokes', 'provoking', 'ps', 'pseudo', 'psychological', 'psychotic', 'public', 'pull', 'pulling', 'pulls', 'punched', 'punches', 'punish', 'punishment', 'puppet', 'puppets', 'pure', 'purity', 'put', 'putting', 'puzzle', 'pyromaniac', 'qu', 'quaid', 'qualities', 'quality', 'question', 'questioning', 'quick', 'quicker', 'quiet', 'quinn', 'quite', 'race', 'racial', 'racism', 'radiant', 'raging', 'random', 'range', 'ranks', 'rare', 'rate', 'rated', 'rather', 'rating', 'ratings', 'raver', 'raw', 'ray', 'reactions', 'readers', 'reading', 'ready', 'real', 'realised', 'realistic', 'reality', 'realize', 'realized', 'really', 'reason', 'reasonable', 'reasons', 'receive', 'received', 'recent', 'recently', 'recommend', 'recommended', 'reconciliation', 'recover', 'recurring', 'redeemed', 'redeeming', 'reenactments', 'references', 'reflected', 'refreshing', 'regardless', 'regret', 'regrettable', 'regrettably', 'rejection', 'relate', 'related', 'relation', 'relations', 'relationship', 'relationships', 'relatively', 'relaxing', 'release', 'released', 'relief', 'relying', 'remaining', 'remake', 'remarkable', 'remember', 'reminded', 'remotely', 'removing', 'rendering', 'rendition', 'renowned', 'rent', 'repair', 'repeated', 'repeating', 'repeats', 'repertory', 'reporter', 'represents', 'require', 'rescue', 'researched', 'resounding', 'respecting', 'rest', 'restrained', 'result', 'results', 'resume', 'retarded', 'retreat', 'return', 'revealing', 'revenge', 'revere', 'reverse', 'review', 'reviewer', 'reviewers', 'reviews', 'rice', 'rickman', 'ridiculous', 'ridiculousness', 'right', 'riot', 'rips', 'rise', 'rita', 'rivalry', 'riveted', 'riz', 'road', 'robert', 'robotic', 'rochon', 'rocked', 'rocks', 'roeg', 'role', 'roles', 'roller', 'rolls', 'romantic', 'room', 'roosevelt', 'roth', 'rough', 'round', 'routine', 'row', 'rpg', 'rpger', 'rubbish', 'rubin', 'rumbles', 'run', 'running', 'ruthless', 'ryan', 'ryans', 'sabotages', 'sack', 'sacrifice', 'sad', 'said', 'sake', 'salesman', 'sam', 'sample', 'sand', 'sandra', 'sappiest', 'sarcophage', 'sat', 'satanic', 'savalas', 'savant', 'save', 'savor', 'saw', 'say', 'says', 'scale', 'scamp', 'scare', 'scared', 'scares', 'scary', 'scene', 'scenery', 'scenes', 'schilling', 'schizophrenic', 'school', 'schoolers', 'schrader', 'schultz', 'sci', 'science', 'scientist', 'score', 'scot', 'scream', 'screamy', 'screen', 'screened', 'screenplay', 'screenwriter', 'scrimm', 'script', 'scripted', 'scripting', 'scripts', 'sculpture', 'sea', 'seamless', 'seamlessly', 'sean', 'season', 'seat', 'second', 'secondary', 'secondly', 'see', 'seeing', 'seem', 'seemed', 'seems', 'seen', 'selections', 'self', 'sells', 'semi', 'senior', 'sense', 'senses', 'sensibility', 'sensitivities', 'sentiment', 'seperate', 'sequel', 'sequels', 'sequence', 'sequences', 'series', 'serious', 'seriously', 'served', 'set', 'sets', 'setting', 'settings', 'seuss', 'several', 'sex', 'shakespear', 'shakespears', 'shallow', 'shame', 'shameful', 'share', 'sharing', 'sharply', 'shatner', 'shattered', 'shed', 'sheer', 'shelf', 'shell', 'shelves', 'shenanigans', 'shepard', 'shined', 'shirley', 'shocking', 'shooting', 'short', 'shortlist', 'shot', 'shots', 'show', 'showcasing', 'showed', 'shows', 'shut', 'sibling', 'sick', 'side', 'sidelined', 'sign', 'significant', 'silent', 'silly', 'simmering', 'simplifying', 'simply', 'since', 'sincere', 'sing', 'singing', 'single', 'sinister', 'sink', 'sinking', 'sister', 'sisters', 'sit', 'sitcoms', 'site', 'sites', 'sits', 'situation', 'situations', 'skilled', 'skip', 'slackers', 'slavic', 'sleep', 'slideshow', 'slightest', 'slightly', 'slimy', 'sloppy', 'slow', 'slurs', 'smack', 'small', 'smart', 'smells', 'smile', 'smiling', 'smith', 'smoothly', 'snider', 'snow', 'soap', 'sobering', 'social', 'soldiers', 'sole', 'solid', 'solidifying', 'solving', 'someone', 'something', 'sometimes', 'somewhat', 'son', 'song', 'songs', 'soon', 'sophisticated', 'sorrentino', 'sorry', 'sort', 'soul', 'sound', 'sounded', 'sounds', 'soundtrack', 'sour', 'south', 'southern', 'space', 'spacek', 'spacey', 'span', 'speak', 'speaking', 'special', 'speed', 'spend', 'spent', 'spew', 'sphere', 'spiffy', 'splendid', 'spock', 'spoil', 'spoiled', 'spoiler', 'spoilers', 'spot', 'spy', 'squibs', 'stable', 'stage', 'stagy', 'stand', 'standout', 'stanwyck', 'star', 'starlet', 'starring', 'stars', 'start', 'started', 'starts', 'state', 'stay', 'stayed', 'stealing', 'steamboat', 'steele', 'step', 'stephen', 'stereotypes', 'stereotypically', 'steve', 'stewart', 'stick', 'still', 'stinker', 'stinks', 'stocking', 'stockings', 'stoic', 'store', 'stories', 'storm', 'story', 'storyline', 'storytelling', 'stowe', 'strange', 'stranger', 'stratus', 'straw', 'street', 'strident', 'string', 'strives', 'strokes', 'strong', 'struck', 'structure', 'struggle', 'stuart', 'student', 'students', 'studio', 'study', 'stuff', 'stunning', 'stupid', 'stupidity', 'style', 'stylized', 'sub', 'subject', 'subjects', 'sublime', 'sublimely', 'subplots', 'subtitles', 'subtle', 'subversive', 'subverting', 'succeeded', 'succeeds', 'success', 'suck', 'sucked', 'sucks', 'suffered', 'suffering', 'suggest', 'suggests', 'suited', 'sum', 'summary', 'sundays', 'super', 'superb', 'superbad', 'superbly', 'superficial', 'superlative', 'supernatural', 'supporting', 'supposed', 'supposedly', 'sure', 'surely', 'surf', 'surface', 'surprised', 'surprises', 'surprising', 'surprisingly', 'surrounding', 'surroundings', 'survivors', 'suspense', 'suspension', 'sven', 'swamp', 'sweep', 'sweet', 'switched', 'swords', 'sydney', 'sympathetic', 'syrupy', 'system', 'tacky', 'taelons', 'take', 'taken', 'takes', 'taking', 'tale', 'talent', 'talented', 'talents', 'talk', 'tanks', 'taped', 'tardis', 'task', 'taste', 'taxidermists', 'taylor', 'teacher', 'teaches', 'team', 'tear', 'tears', 'technically', 'teddy', 'tedium', 'teen', 'teenagers', 'teeth', 'telephone', 'television', 'tell', 'telly', 'temperaments', 'ten', 'tender', 'tension', 'tensions', 'terminology', 'terms', 'terrible', 'terribly', 'terrific', 'terror', 'th', 'thanks', 'theater', 'theatre', 'theatres', 'theatrical', 'theme', 'themes', 'therapy', 'thick', 'thing', 'things', 'think', 'thinking', 'thomerson', 'thoroughly', 'thorsen', 'though', 'thought', 'thoughts', 'thousand', 'thread', 'three', 'threshold', 'thrilled', 'thriller', 'thrillers', 'throughout', 'throwback', 'thrown', 'thug', 'thumper', 'thunderbirds', 'thus', 'ticker', 'tickets', 'tightly', 'time', 'timeless', 'timely', 'timers', 'times', 'timing', 'tiny', 'tired', 'title', 'titta', 'today', 'together', 'told', 'tolerable', 'tolerate', 'tom', 'tomorrow', 'tone', 'tongue', 'tonight', 'tons', 'tony', 'took', 'toons', 'top', 'tops', 'torture', 'tortured', 'total', 'totally', 'touch', 'touches', 'touching', 'tough', 'towards', 'towers', 'townsend', 'track', 'tract', 'traditional', 'traffic', 'trailer', 'train', 'tranquillity', 'transcend', 'transfers', 'translate', 'translating', 'trap', 'trash', 'trashy', 'treachery', 'treasure', 'treat', 'treatments', 'trek', 'tremendous', 'tremendously', 'tries', 'trilogy', 'trinity', 'trip', 'triumphed', 'trond', 'trooper', 'trouble', 'truck', 'true', 'truly', 'trumbull', 'trumpeter', 'truth', 'try', 'trying', 'trysts', 'tsunami', 'tuneful', 'turkey', 'turn', 'turned', 'turns', 'tv', 'twice', 'twirling', 'twist', 'twists', 'two', 'tying', 'type', 'typical', 'ue', 'ugliest', 'ugly', 'uhura', 'ultra', 'um', 'unaccompanied', 'unbearable', 'unbearably', 'unbelievable', 'uncalled', 'unconditional', 'unconvincing', 'underacting', 'underappreciated', 'underbite', 'underlines', 'underlying', 'underneath', 'underrated', 'understand', 'understanding', 'understated', 'understatement', 'understood', 'undertone', 'underwater', 'undoubtedly', 'uneasy', 'unemployed', 'unethical', 'unfaithful', 'unfolds', 'unforgettable', 'unfortunate', 'unfortunately', 'unfunny', 'unintentionally', 'uninteresting', 'union', 'unique', 'uniqueness', 'universal', 'universe', 'unless', 'unlockable', 'unmatched', 'unmitigated', 'unmoving', 'unnecessary', 'unneeded', 'unoriginal', 'unpleasant', 'unpredictability', 'unpredictable', 'unrealistic', 'unrecognizable', 'unrecommended', 'unremarkable', 'unrestrained', 'unsatisfactory', 'unwatchable', 'upa', 'uplifting', 'upper', 'ups', 'uptight', 'ursula', 'us', 'use', 'used', 'user', 'uses', 'using', 'ussr', 'usual', 'utter', 'utterly', 'valentine', 'value', 'values', 'vampire', 'vandiver', 'variation', 'vehicles', 'ventura', 'verbal', 'verbatim', 'versatile', 'version', 'versus', 'vessel', 'veteran', 'vey', 'vibe', 'victor', 'video', 'view', 'viewer', 'viewing', 'views', 'villain', 'villains', 'violence', 'violin', 'virtue', 'virus', 'vision', 'visual', 'visually', 'vitally', 'vivian', 'vivid', 'vocal', 'voice', 'volatile', 'volcano', 'vomit', 'vomited', 'voyage', 'vulcan', 'waiting', 'waitress', 'walk', 'walked', 'wall', 'want', 'wanted', 'wanting', 'wants', 'war', 'warmth', 'warn', 'warning', 'wartime', 'warts', 'washed', 'washing', 'waste', 'wasted', 'waster', 'wasting', 'watch', 'watchable', 'watched', 'watching', 'water', 'watkins', 'watson', 'wave', 'way', 'waylaid', 'wayne', 'ways', 'wb', 'weak', 'weaker', 'weariness', 'weaving', 'website', 'wedding', 'weight', 'weird', 'well', 'welsh', 'went', 'whatever', 'whatsoever', 'whenever', 'whether', 'whine', 'whiny', 'white', 'whites', 'whoever', 'whole', 'wholesome', 'wide', 'widmark', 'wife', 'wih', 'wild', 'wilkinson', 'william', 'willie', 'wily', 'win', 'wind', 'wise', 'wish', 'within', 'without', 'witticisms', 'witty', 'woa', 'women', 'wonder', 'wondered', 'wonderful', 'wonderfully', 'wong', 'wont', 'woo', 'wooden', 'word', 'words', 'work', 'worked', 'working', 'works', 'world', 'worry', 'worse', 'worst', 'worth', 'worthless', 'worthwhile', 'worthy', 'would', 'wouldnt', 'woven', 'wow', 'wrap', 'write', 'writer', 'writers', 'writing', 'written', 'wrong', 'wrote', 'yardley', 'yawn', 'yeah', 'year', 'years', 'yelps', 'yes', 'yet', 'young', 'younger', 'youthful', 'youtube', 'yun', 'zillion', 'zombie', 'zombiez']\n"
          ],
          "name": "stdout"
        }
      ]
    },
    {
      "cell_type": "markdown",
      "metadata": {
        "id": "pnyHoaD1517t"
      },
      "source": [
        "# Task 2\n",
        "#### get top 50 values"
      ]
    },
    {
      "cell_type": "markdown",
      "metadata": {
        "id": "pO0kQfyZ803f"
      },
      "source": [
        "* import libs\n",
        "* fit\n",
        "  * desending order (reffer:https://www.w3resource.com/python-exercises/dictionary/python-data-type-dictionary-exercise-1.php)\n",
        "  * change[vocab = {j:i for i,j in enumerate(storage_set)}] to only give 50 thats 49 AKA \"(storage_set[:50])\"\n",
        "    * print this shit [print('reverse of 50')]\n",
        "* idf\n",
        "* transform \n",
        "  * print this tramsform (AKA:sparce martix)\n",
        "* normalize your sparse matrix using L2 normalization (reffer:https://scikit-learn.org/stable/modules/generated/sklearn.preprocessing.normalize.html)\n",
        "\n"
      ]
    },
    {
      "cell_type": "code",
      "metadata": {
        "colab": {
          "base_uri": "https://localhost:8080/"
        },
        "id": "SFnWjsseasfe",
        "outputId": "65bb6b94-471a-4bc1-b22c-d2ee738ff68c"
      },
      "source": [
        "# Function to calculate the no. of times a word appears in a whole dataset\n",
        "def IDF(dataset,word):\n",
        "  count = 0\n",
        "  for row in dataset:\n",
        "    if word in row:\n",
        "      count = count+1\n",
        "  return count\n",
        "\n",
        "\n",
        "# Modifying FIT method for printing out words with top 100 IDF scores\n",
        "# Input : set of documents ; Output: word, dimension number pair for each word\n",
        "def fit(dataset):\n",
        "  unique_words = [] \n",
        "  IDF_val = []\n",
        "  for row in dataset:\n",
        "    for word in row.split(\" \"):\n",
        "      if len(word)>=2 and word not in unique_words:\n",
        "        unique_words.append(word) # Add each unique word of length>2 to the list\n",
        "  \n",
        "  for word in unique_words:\n",
        "    val = log10(len(dataset)/IDF(dataset,word))\n",
        "    IDF_val.append(val) # Compute IDF scores for each word in list\n",
        "    \n",
        "  # Sort both lists w.r.t IDF scores\n",
        "  for i in range(len(IDF_val)):\n",
        "    for j in range(len(IDF_val)):\n",
        "      if IDF_val[j] < IDF_val[i]:\n",
        "\n",
        "        temp_a = IDF_val[j]\n",
        "        IDF_val[j] = IDF_val[i]\n",
        "        IDF_val[i] = temp_a\n",
        "        \n",
        "        temp_b = unique_words[j]\n",
        "        unique_words[j] = unique_words[i]\n",
        "        unique_words[i] = temp_b\n",
        "        \n",
        "  vocab_a = {j:i for i,j in enumerate(unique_words[:50])} # Enumerate the list, i.e., give consecutive numbers to each item, store in a dict\n",
        "  return vocab_a\n",
        "\n",
        "vocab_a = fit(corpus)\n",
        "print(vocab_a)\n",
        "#vocab_a"
      ],
      "execution_count": null,
      "outputs": [
        {
          "output_type": "stream",
          "text": [
            "{'aimless': 0, 'distressed': 1, 'drifting': 2, 'nearly': 3, 'attempting': 4, 'artiness': 5, 'gerardo': 6, 'emptiness': 7, 'messages': 8, 'buffet': 9, 'science': 10, 'teacher': 11, 'owls': 12, 'florida': 13, 'muppets': 14, 'overdue': 15, 'screenplay': 16, 'post': 17, 'practically': 18, 'structure': 19, 'tightly': 20, 'constructed': 21, 'vitally': 22, 'occurs': 23, 'content': 24, 'dozen': 25, 'highest': 26, 'superlative': 27, 'require': 28, 'puzzle': 29, 'solving': 30, 'fit': 31, 'pulls': 32, 'punches': 33, 'graphics': 34, 'insane': 35, 'massive': 36, 'unlockable': 37, 'properly': 38, 'rocks': 39, 'doomed': 40, 'conception': 41, 'minor': 42, 'changing': 43, 'confirm': 44, 'generic': 45, 'managed': 46, 'exaggerating': 47, 'trailer': 48, 'carrell': 49}\n"
          ],
          "name": "stdout"
        }
      ]
    },
    {
      "cell_type": "code",
      "metadata": {
        "id": "N0d1m7_Gt1Pn"
      },
      "source": [
        "#transform function for task 2\n",
        "\n",
        "def IDF(dataset,word):\n",
        "  count = 0\n",
        "  for row in dataset:\n",
        "    if word in row:\n",
        "      count = count+1\n",
        "  return count\n",
        "\n",
        "\n",
        "def transform(dataset,vocab):\n",
        "    rows = []\n",
        "    columns = []\n",
        "    values = []\n",
        "    if isinstance(dataset, (list,)):\n",
        "        for idx, row in enumerate(tqdm(dataset)): # for each document in the dataset\n",
        "            # it will return a dict type object where key is the word and values is its frequency, {word:frequency}\n",
        "            word_freq = dict(Counter(row.split()))\n",
        "            # for every unique word in the document\n",
        "            for word, freq in word_freq.items():  # for each unique word in the review.                \n",
        "                if len(word) < 2:\n",
        "                    continue\n",
        "                # we will check if its there in the vocabulary that we build in fit() function\n",
        "                # dict.get() function will return the values, if the key doesn't exits it will return -1\n",
        "                col_index = vocab.get(word, -1) # retreving the dimension number of a word\n",
        "                # if the word exists\n",
        "                if col_index !=-1:\n",
        "                    # we are storing the index of the document\n",
        "                    rows.append(idx)\n",
        "                    # we are storing the dimensions of the word\n",
        "                    columns.append(col_index)\n",
        "                    # we are storing the frequency of the word\n",
        "\n",
        "                    #  every thing here is same except\n",
        "                    # (val = (freq/len(row.split()))*(log10(len(dataset)/IDF(dataset,word))))\n",
        "                    \n",
        "                    val = (freq/len(row.split()))*(log10(len(dataset)/IDF(dataset,word)))  \n",
        "                    values.append(val) #val-freq\n",
        "        return csr_matrix((values, (rows,columns)), shape=(len(dataset),len(vocab)))\n",
        "    else:\n",
        "        print(\"you need to pass list of strings\")"
      ],
      "execution_count": null,
      "outputs": []
    },
    {
      "cell_type": "code",
      "metadata": {
        "colab": {
          "base_uri": "https://localhost:8080/"
        },
        "id": "5kgKTj8Vb1De",
        "outputId": "efda8c3a-1bd6-467b-f3b8-719eac515c89"
      },
      "source": [
        "print(list(vocab_a.keys()))\n",
        "print(\"Shape of TF IDF Vector : \"+str(transform(corpus, vocab_a).shape))\n",
        "#print(transform(corpus, vocab_a))\n",
        "wasd = transform(corpus, vocab_a)\n",
        "print(wasd)"
      ],
      "execution_count": null,
      "outputs": [
        {
          "output_type": "stream",
          "text": [
            "100%|██████████| 746/746 [00:00<00:00, 46176.28it/s]\n",
            "100%|██████████| 746/746 [00:00<00:00, 53937.20it/s]"
          ],
          "name": "stderr"
        },
        {
          "output_type": "stream",
          "text": [
            "['aimless', 'distressed', 'drifting', 'nearly', 'attempting', 'artiness', 'gerardo', 'emptiness', 'messages', 'buffet', 'science', 'teacher', 'owls', 'florida', 'muppets', 'overdue', 'screenplay', 'post', 'practically', 'structure', 'tightly', 'constructed', 'vitally', 'occurs', 'content', 'dozen', 'highest', 'superlative', 'require', 'puzzle', 'solving', 'fit', 'pulls', 'punches', 'graphics', 'insane', 'massive', 'unlockable', 'properly', 'rocks', 'doomed', 'conception', 'minor', 'changing', 'confirm', 'generic', 'managed', 'exaggerating', 'trailer', 'carrell']\n",
            "Shape of TF IDF Vector : (746, 50)\n",
            "  (0, 0)\t0.3590923534340836\n",
            "  (0, 1)\t0.3590923534340836\n",
            "  (0, 2)\t0.3590923534340836\n",
            "  (1, 3)\t0.3191932030525187\n",
            "  (2, 4)\t0.15119678039329834\n",
            "  (2, 5)\t0.15119678039329834\n",
            "  (4, 6)\t0.2872738827472669\n",
            "  (5, 7)\t0.2872738827472669\n",
            "  (7, 8)\t0.3191932030525187\n",
            "  (9, 9)\t0.47878980457877807\n",
            "  (9, 10)\t0.47878980457877807\n",
            "  (9, 11)\t0.47878980457877807\n",
            "  (10, 12)\t0.9575796091575561\n",
            "  (11, 13)\t0.3590923534340836\n",
            "  (12, 14)\t0.7181847068681672\n",
            "  (16, 15)\t0.2209799098055899\n",
            "  (17, 16)\t0.20519563053376202\n",
            "  (17, 17)\t0.20519563053376202\n",
            "  (18, 18)\t0.41039126106752405\n",
            "  (19, 19)\t0.006543824208365988\n",
            "  (19, 20)\t0.006543824208365988\n",
            "  (19, 21)\t0.006543824208365988\n",
            "  (19, 22)\t0.006543824208365988\n",
            "  (19, 23)\t0.006543824208365988\n",
            "  (19, 24)\t0.006543824208365988\n",
            "  (19, 25)\t0.006543824208365988\n",
            "  (19, 26)\t0.006543824208365988\n",
            "  (19, 27)\t0.006543824208365988\n",
            "  (19, 28)\t0.006543824208365988\n",
            "  (19, 29)\t0.006543824208365988\n",
            "  (19, 30)\t0.006543824208365988\n",
            "  (19, 31)\t0.013087648416731976\n",
            "  (19, 32)\t0.006543824208365988\n",
            "  (19, 33)\t0.006543824208365988\n",
            "  (19, 34)\t0.019631472625097963\n",
            "  (19, 35)\t0.006543824208365988\n",
            "  (19, 36)\t0.019631472625097963\n",
            "  (19, 37)\t0.006543824208365988\n",
            "  (19, 38)\t0.006543824208365988\n",
            "  (19, 39)\t0.006543824208365988\n",
            "  (19, 40)\t0.006543824208365988\n",
            "  (19, 41)\t0.006543824208365988\n",
            "  (19, 42)\t0.006543824208365988\n",
            "  (19, 43)\t0.006543824208365988\n",
            "  (19, 44)\t0.006543824208365988\n",
            "  (19, 45)\t0.006543824208365988\n",
            "  (19, 46)\t0.006543824208365988\n",
            "  (19, 47)\t0.006543824208365988\n",
            "  (19, 48)\t0.006543824208365988\n",
            "  (19, 49)\t0.006543824208365988\n"
          ],
          "name": "stdout"
        },
        {
          "output_type": "stream",
          "text": [
            "\n"
          ],
          "name": "stderr"
        }
      ]
    },
    {
      "cell_type": "code",
      "metadata": {
        "id": "7V9QYOcfXyZ1",
        "colab": {
          "base_uri": "https://localhost:8080/"
        },
        "outputId": "5929c9a7-1515-41f4-e462-09e1f60953e6"
      },
      "source": [
        "wasd_normalized = normalize(wasd, norm='l2')\n",
        "print(wasd_normalized)"
      ],
      "execution_count": null,
      "outputs": [
        {
          "output_type": "stream",
          "text": [
            "  (0, 0)\t0.5773502691896257\n",
            "  (0, 1)\t0.5773502691896257\n",
            "  (0, 2)\t0.5773502691896257\n",
            "  (1, 3)\t1.0\n",
            "  (2, 4)\t0.7071067811865475\n",
            "  (2, 5)\t0.7071067811865475\n",
            "  (4, 6)\t1.0\n",
            "  (5, 7)\t1.0\n",
            "  (7, 8)\t1.0\n",
            "  (9, 9)\t0.5773502691896257\n",
            "  (9, 10)\t0.5773502691896257\n",
            "  (9, 11)\t0.5773502691896257\n",
            "  (10, 12)\t1.0\n",
            "  (11, 13)\t1.0\n",
            "  (12, 14)\t1.0\n",
            "  (16, 15)\t1.0\n",
            "  (17, 16)\t0.7071067811865476\n",
            "  (17, 17)\t0.7071067811865476\n",
            "  (18, 18)\t1.0\n",
            "  (19, 19)\t0.1414213562373095\n",
            "  (19, 20)\t0.1414213562373095\n",
            "  (19, 21)\t0.1414213562373095\n",
            "  (19, 22)\t0.1414213562373095\n",
            "  (19, 23)\t0.1414213562373095\n",
            "  (19, 24)\t0.1414213562373095\n",
            "  (19, 25)\t0.1414213562373095\n",
            "  (19, 26)\t0.1414213562373095\n",
            "  (19, 27)\t0.1414213562373095\n",
            "  (19, 28)\t0.1414213562373095\n",
            "  (19, 29)\t0.1414213562373095\n",
            "  (19, 30)\t0.1414213562373095\n",
            "  (19, 31)\t0.282842712474619\n",
            "  (19, 32)\t0.1414213562373095\n",
            "  (19, 33)\t0.1414213562373095\n",
            "  (19, 34)\t0.4242640687119285\n",
            "  (19, 35)\t0.1414213562373095\n",
            "  (19, 36)\t0.4242640687119285\n",
            "  (19, 37)\t0.1414213562373095\n",
            "  (19, 38)\t0.1414213562373095\n",
            "  (19, 39)\t0.1414213562373095\n",
            "  (19, 40)\t0.1414213562373095\n",
            "  (19, 41)\t0.1414213562373095\n",
            "  (19, 42)\t0.1414213562373095\n",
            "  (19, 43)\t0.1414213562373095\n",
            "  (19, 44)\t0.1414213562373095\n",
            "  (19, 45)\t0.1414213562373095\n",
            "  (19, 46)\t0.1414213562373095\n",
            "  (19, 47)\t0.1414213562373095\n",
            "  (19, 48)\t0.1414213562373095\n",
            "  (19, 49)\t0.1414213562373095\n"
          ],
          "name": "stdout"
        }
      ]
    },
    {
      "cell_type": "code",
      "metadata": {
        "colab": {
          "base_uri": "https://localhost:8080/"
        },
        "id": "q0aV4XQP1w5v",
        "outputId": "497068fb-f268-43a3-8d86-9bc405748d3f"
      },
      "source": [
        "print(\"sparce\")\n",
        "print(wasd)\n",
        "zxc = wasd.todense\n",
        "print(\"dence\")\n",
        "print(zxc)\n",
        "print(\"dence shape\")\n",
        "#print(aaa.shape)"
      ],
      "execution_count": null,
      "outputs": [
        {
          "output_type": "stream",
          "text": [
            "sparce\n",
            "  (0, 0)\t0.3590923534340836\n",
            "  (0, 1)\t0.3590923534340836\n",
            "  (0, 2)\t0.3590923534340836\n",
            "  (1, 3)\t0.3191932030525187\n",
            "  (2, 4)\t0.15119678039329834\n",
            "  (2, 5)\t0.15119678039329834\n",
            "  (4, 6)\t0.2872738827472669\n",
            "  (5, 7)\t0.2872738827472669\n",
            "  (7, 8)\t0.3191932030525187\n",
            "  (9, 9)\t0.47878980457877807\n",
            "  (9, 10)\t0.47878980457877807\n",
            "  (9, 11)\t0.47878980457877807\n",
            "  (10, 12)\t0.9575796091575561\n",
            "  (11, 13)\t0.3590923534340836\n",
            "  (12, 14)\t0.7181847068681672\n",
            "  (16, 15)\t0.2209799098055899\n",
            "  (17, 16)\t0.20519563053376202\n",
            "  (17, 17)\t0.20519563053376202\n",
            "  (18, 18)\t0.41039126106752405\n",
            "  (19, 19)\t0.006543824208365988\n",
            "  (19, 20)\t0.006543824208365988\n",
            "  (19, 21)\t0.006543824208365988\n",
            "  (19, 22)\t0.006543824208365988\n",
            "  (19, 23)\t0.006543824208365988\n",
            "  (19, 24)\t0.006543824208365988\n",
            "  (19, 25)\t0.006543824208365988\n",
            "  (19, 26)\t0.006543824208365988\n",
            "  (19, 27)\t0.006543824208365988\n",
            "  (19, 28)\t0.006543824208365988\n",
            "  (19, 29)\t0.006543824208365988\n",
            "  (19, 30)\t0.006543824208365988\n",
            "  (19, 31)\t0.013087648416731976\n",
            "  (19, 32)\t0.006543824208365988\n",
            "  (19, 33)\t0.006543824208365988\n",
            "  (19, 34)\t0.019631472625097963\n",
            "  (19, 35)\t0.006543824208365988\n",
            "  (19, 36)\t0.019631472625097963\n",
            "  (19, 37)\t0.006543824208365988\n",
            "  (19, 38)\t0.006543824208365988\n",
            "  (19, 39)\t0.006543824208365988\n",
            "  (19, 40)\t0.006543824208365988\n",
            "  (19, 41)\t0.006543824208365988\n",
            "  (19, 42)\t0.006543824208365988\n",
            "  (19, 43)\t0.006543824208365988\n",
            "  (19, 44)\t0.006543824208365988\n",
            "  (19, 45)\t0.006543824208365988\n",
            "  (19, 46)\t0.006543824208365988\n",
            "  (19, 47)\t0.006543824208365988\n",
            "  (19, 48)\t0.006543824208365988\n",
            "  (19, 49)\t0.006543824208365988\n",
            "dence\n",
            "<bound method spmatrix.todense of <746x50 sparse matrix of type '<class 'numpy.float64'>'\n",
            "\twith 50 stored elements in Compressed Sparse Row format>>\n",
            "dence shape\n"
          ],
          "name": "stdout"
        }
      ]
    },
    {
      "cell_type": "code",
      "metadata": {
        "colab": {
          "base_uri": "https://localhost:8080/"
        },
        "id": "b6kgWcLdAKTH",
        "outputId": "eff3d423-330d-4b74-8f23-8b3e4d2d6ac6"
      },
      "source": [
        "print(zxc)"
      ],
      "execution_count": null,
      "outputs": [
        {
          "output_type": "stream",
          "text": [
            "<bound method spmatrix.todense of <746x50 sparse matrix of type '<class 'numpy.float64'>'\n",
            "\twith 50 stored elements in Compressed Sparse Row format>>\n"
          ],
          "name": "stdout"
        }
      ]
    }
  ]
}